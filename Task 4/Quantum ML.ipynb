{
 "cells": [
  {
   "cell_type": "code",
   "execution_count": 57,
   "id": "ad945307",
   "metadata": {},
   "outputs": [],
   "source": [
    "import pennylane as qml\n",
    "import pennylane.numpy as np\n",
    "\n",
    "num_points = [6, 12, 18, 24, 30, 36, 42, 48, 54, 60, 70, 80, 90, 100]"
   ]
  },
  {
   "cell_type": "code",
   "execution_count": 58,
   "id": "7af4c6cb",
   "metadata": {},
   "outputs": [],
   "source": [
    "sim_values = []\n",
    "x_test = [2*i*np.pi/1000 for i in range(1000)]\n",
    "y_test = np.sin(x_test)"
   ]
  },
  {
   "cell_type": "code",
   "execution_count": 59,
   "id": "49a9be7a",
   "metadata": {},
   "outputs": [],
   "source": [
    "dev = qml.device('default.qubit', wires=3)"
   ]
  },
  {
   "cell_type": "code",
   "execution_count": 60,
   "id": "fa29f0ba",
   "metadata": {},
   "outputs": [],
   "source": [
    "def state_prep(a):\n",
    "    qml.RY(a, wires=0)\n",
    "    qml.CNOT(wires=[0, 1])"
   ]
  },
  {
   "cell_type": "code",
   "execution_count": 61,
   "id": "a96ec461",
   "metadata": {},
   "outputs": [],
   "source": [
    "def layer(angles):\n",
    "    qml.Rot(*angles[4], wires=2)\n",
    "    qml.Hadamard(wires=2)\n",
    "    \n",
    "    def ctrl_func(angles_inner):\n",
    "        for wire in range(2):\n",
    "            qml.Rot(*angles_inner[wire], wires=wire)\n",
    "        qml.CNOT(wires=[0, 1])\n",
    "        \n",
    "        for wire in range(2, 4):\n",
    "            qml.Rot(*angles_inner[wire], wires=(wire-2))\n",
    "        qml.CNOT(wires=[0, 1])\n",
    "    \n",
    "    qml.ctrl(ctrl_func, control=[2])(angles[:4])\n",
    "    \n",
    "    qml.Hadamard(wires=2)\n",
    "\n",
    "# length of angles = 5"
   ]
  },
  {
   "cell_type": "code",
   "execution_count": 62,
   "id": "b585db60",
   "metadata": {},
   "outputs": [],
   "source": [
    "@qml.qnode(dev)\n",
    "def circuit(weights, x):\n",
    "    state_prep(x)\n",
    "    \n",
    "    for layer_weights in weights:\n",
    "        layer(layer_weights)\n",
    "    \n",
    "    return qml.expval(qml.PauliZ(0))"
   ]
  },
  {
   "cell_type": "code",
   "execution_count": 63,
   "id": "d05c5ec9",
   "metadata": {},
   "outputs": [],
   "source": [
    "def var_classifier(weights, bias, x):\n",
    "    return circuit(weights, x) + bias"
   ]
  },
  {
   "cell_type": "code",
   "execution_count": 64,
   "id": "b33d182d",
   "metadata": {},
   "outputs": [],
   "source": [
    "def cost(weights, bias, X, Y):\n",
    "    predictions = var_classifier(weights, bias, X.T)\n",
    "    return loss(Y, predictions)"
   ]
  },
  {
   "cell_type": "code",
   "execution_count": 65,
   "id": "a272c22f",
   "metadata": {},
   "outputs": [],
   "source": [
    "def loss(Y, preds):\n",
    "    return np.mean((Y - qml.math.stack(preds)) ** 2)"
   ]
  },
  {
   "cell_type": "code",
   "execution_count": 66,
   "id": "fe3ea4c6",
   "metadata": {},
   "outputs": [],
   "source": [
    "def accuracy(labels, preds):\n",
    "    acc = sum(abs(l - p) < 1e-5 for l, p in zip(labels, preds))\n",
    "    acc = acc / len(labels)\n",
    "    return acc"
   ]
  },
  {
   "cell_type": "code",
   "execution_count": 67,
   "id": "587e5ca6",
   "metadata": {},
   "outputs": [],
   "source": [
    "y_test = (y_test+1)/2"
   ]
  },
  {
   "cell_type": "code",
   "execution_count": 68,
   "id": "eaee0702",
   "metadata": {
    "scrolled": true
   },
   "outputs": [
    {
     "data": {
      "image/png": "[encoded data removed]",
      "text/plain": [
       "<Figure size 640x480 with 1 Axes>"
      ]
     },
     "metadata": {},
     "output_type": "display_data"
    }
   ],
   "source": [
    "import matplotlib.pyplot as plt\n",
    "\n",
    "plt.figure()\n",
    "plt.scatter(x_test, y_test, c=\"b\", marker=\"o\", ec=\"k\")\n",
    "plt.title(\"Original Data\")\n",
    "plt.show()"
   ]
  },
  {
   "cell_type": "code",
   "execution_count": 69,
   "id": "8fe6523d",
   "metadata": {},
   "outputs": [],
   "source": [
    "np.random.seed(0)\n",
    "num_data = len(x_test)\n",
    "num_train = int(0.75 * num_data)\n",
    "\n",
    "index = np.random.permutation(range(num_data))\n",
    "\n",
    "x_test_np = np.array(x_test)\n",
    "y_test_np = np.array(y_test)\n",
    "\n",
    "feats_train = x_test_np[index[:num_train]]\n",
    "labels_train = y_test_np[index[:num_train]]\n",
    "\n",
    "feats_val = x_test_np[index[num_train:]]\n",
    "labels_val = y_test_np[index[num_train:]]"
   ]
  },
  {
   "cell_type": "code",
   "execution_count": 82,
   "id": "cf6322bf",
   "metadata": {},
   "outputs": [],
   "source": [
    "num_qubits = 3\n",
    "num_layers = 5\n",
    "\n",
    "weights_init = 0.01 * np.random.randn(num_layers, 5, 3, requires_grad=True)\n",
    "bias_init = np.array(0.0, requires_grad=True)\n",
    "\n",
    "opt = qml.NesterovMomentumOptimizer(0.2)\n",
    "batch_size = 30\n"
   ]
  },
  {
   "cell_type": "code",
   "execution_count": 83,
   "id": "3a889d29",
   "metadata": {},
   "outputs": [
    {
     "data": {
      "text/plain": [
       "list"
      ]
     },
     "execution_count": 83,
     "metadata": {},
     "output_type": "execute_result"
    }
   ],
   "source": [
    "type(x_test)"
   ]
  },
  {
   "cell_type": "code",
   "execution_count": 86,
   "id": "d0f3e280",
   "metadata": {},
   "outputs": [
    {
     "name": "stdout",
     "output_type": "stream",
     "text": [
      "Iter:     2 | Cost: 0.2736296 | Acc train: 0.0040000 | Acc validation: 0.0000000\n",
      "Iter:     4 | Cost: 0.0447274 | Acc train: 0.0040000 | Acc validation: 0.0000000\n",
      "Iter:     6 | Cost: 0.0399688 | Acc train: 0.0040000 | Acc validation: 0.0000000\n",
      "Iter:     8 | Cost: 0.0146407 | Acc train: 0.0040000 | Acc validation: 0.0000000\n",
      "Iter:    10 | Cost: 0.0017358 | Acc train: 0.0040000 | Acc validation: 0.0000000\n",
      "Iter:    12 | Cost: 0.0024562 | Acc train: 0.0040000 | Acc validation: 0.0000000\n",
      "Iter:    14 | Cost: 0.0024995 | Acc train: 0.0040000 | Acc validation: 0.0000000\n",
      "Iter:    16 | Cost: 0.0003499 | Acc train: 0.0040000 | Acc validation: 0.0000000\n",
      "Iter:    18 | Cost: 0.0001388 | Acc train: 0.0040000 | Acc validation: 0.0000000\n",
      "Iter:    20 | Cost: 0.0001641 | Acc train: 0.0040000 | Acc validation: 0.0000000\n",
      "Iter:    22 | Cost: 0.0000331 | Acc train: 0.0040000 | Acc validation: 0.0000000\n",
      "Iter:    24 | Cost: 0.0000170 | Acc train: 0.0040000 | Acc validation: 0.0000000\n",
      "Iter:    26 | Cost: 0.0000175 | Acc train: 0.0040000 | Acc validation: 0.0000000\n",
      "Iter:    28 | Cost: 0.0000016 | Acc train: 0.0040000 | Acc validation: 0.0000000\n",
      "Iter:    30 | Cost: 0.0000020 | Acc train: 0.0040000 | Acc validation: 0.0000000\n",
      "Iter:    32 | Cost: 0.0000031 | Acc train: 0.0040000 | Acc validation: 0.0000000\n",
      "Iter:    34 | Cost: 0.0000005 | Acc train: 0.0040000 | Acc validation: 0.0000000\n",
      "Iter:    36 | Cost: 0.0000002 | Acc train: 0.0040000 | Acc validation: 0.0000000\n",
      "Iter:    38 | Cost: 0.0000003 | Acc train: 0.0040000 | Acc validation: 0.0000000\n",
      "Iter:    40 | Cost: 0.0000000 | Acc train: 0.0040000 | Acc validation: 0.0000000\n",
      "Iter:    42 | Cost: 0.0000000 | Acc train: 0.0040000 | Acc validation: 0.0000000\n",
      "Iter:    44 | Cost: 0.0000000 | Acc train: 0.0040000 | Acc validation: 0.0000000\n",
      "Iter:    46 | Cost: 0.0000000 | Acc train: 0.0040000 | Acc validation: 0.0000000\n",
      "Iter:    48 | Cost: 0.0000000 | Acc train: 0.0040000 | Acc validation: 0.0000000\n",
      "Iter:    50 | Cost: 0.0000000 | Acc train: 0.0040000 | Acc validation: 0.0000000\n",
      "Iter:    52 | Cost: 0.0000000 | Acc train: 0.0040000 | Acc validation: 0.0000000\n",
      "Iter:    54 | Cost: 0.0000000 | Acc train: 0.0040000 | Acc validation: 0.0000000\n",
      "Iter:    56 | Cost: 0.0000000 | Acc train: 0.0040000 | Acc validation: 0.0000000\n",
      "Iter:    58 | Cost: 0.0000000 | Acc train: 0.0040000 | Acc validation: 0.0000000\n",
      "Iter:    60 | Cost: 0.0000000 | Acc train: 0.0040000 | Acc validation: 0.0000000\n",
      "Iter:    62 | Cost: 0.0000000 | Acc train: 0.0040000 | Acc validation: 0.0000000\n",
      "Iter:    64 | Cost: 0.0000000 | Acc train: 0.0040000 | Acc validation: 0.0000000\n",
      "Iter:    66 | Cost: 0.0000000 | Acc train: 0.0040000 | Acc validation: 0.0000000\n",
      "Iter:    68 | Cost: 0.0000000 | Acc train: 0.0040000 | Acc validation: 0.0000000\n",
      "Iter:    70 | Cost: 0.0000000 | Acc train: 0.0040000 | Acc validation: 0.0000000\n",
      "Iter:    72 | Cost: 0.0000000 | Acc train: 0.0040000 | Acc validation: 0.0000000\n",
      "Iter:    74 | Cost: 0.0000000 | Acc train: 0.0040000 | Acc validation: 0.0000000\n",
      "Iter:    76 | Cost: 0.0000000 | Acc train: 0.0040000 | Acc validation: 0.0000000\n",
      "Iter:    78 | Cost: 0.0000000 | Acc train: 0.0040000 | Acc validation: 0.0000000\n",
      "Iter:    80 | Cost: 0.0000000 | Acc train: 0.0040000 | Acc validation: 0.0000000\n",
      "Iter:    82 | Cost: 0.0000000 | Acc train: 0.0040000 | Acc validation: 0.0000000\n",
      "Iter:    84 | Cost: 0.0000000 | Acc train: 0.0040000 | Acc validation: 0.0000000\n",
      "Iter:    86 | Cost: 0.0000000 | Acc train: 0.0040000 | Acc validation: 0.0000000\n",
      "Iter:    88 | Cost: 0.0000000 | Acc train: 0.0040000 | Acc validation: 0.0000000\n",
      "Iter:    90 | Cost: 0.0000000 | Acc train: 0.0040000 | Acc validation: 0.0000000\n",
      "Iter:    92 | Cost: 0.0000000 | Acc train: 0.0040000 | Acc validation: 0.0000000\n",
      "Iter:    94 | Cost: 0.0000000 | Acc train: 0.0040000 | Acc validation: 0.0000000\n",
      "Iter:    96 | Cost: 0.0000000 | Acc train: 0.0040000 | Acc validation: 0.0000000\n",
      "Iter:    98 | Cost: 0.0000000 | Acc train: 0.0040000 | Acc validation: 0.0000000\n",
      "Iter:   100 | Cost: 0.0000000 | Acc train: 0.0040000 | Acc validation: 0.0000000\n"
     ]
    }
   ],
   "source": [
    "weights = weights_init\n",
    "bias = bias_init\n",
    "\n",
    "for it in range(100):\n",
    "    batch_index = np.random.randint(0, num_train, (batch_size,))\n",
    "    feats_train_batch = np.array(feats_train[batch_index])\n",
    "    labels_train_batch = np.array(labels_train[batch_index])\n",
    "    \n",
    "    weights, bias, _, _ = opt.step(cost, weights, bias, feats_train_batch, labels_train_batch)\n",
    "    \n",
    "    preds_train = np.sign(var_classifier(weights, bias, feats_train.T))\n",
    "    preds_val = np.sign(var_classifier(weights, bias, feats_val.T))\n",
    "    \n",
    "    acc_train = accuracy(labels_train, preds_train)\n",
    "    acc_val = accuracy(labels_val, preds_val)\n",
    "    \n",
    "    if (it + 1) % 2 == 0:\n",
    "        _cost = cost(weights, bias, feats_test, labels_test)\n",
    "        print(\n",
    "            f\"Iter: {it + 1:5d} | Cost: {_cost:0.7f} | \"\n",
    "            f\"Acc train: {acc_train:0.7f} | Acc validation: {acc_val:0.7f}\"\n",
    "        )\n"
   ]
  },
  {
   "cell_type": "code",
   "execution_count": null,
   "id": "2596381e",
   "metadata": {},
   "outputs": [],
   "source": []
  }
 ],
 "metadata": {
  "kernelspec": {
   "display_name": "Python 3 (ipykernel)",
   "language": "python",
   "name": "python3"
  },
  "language_info": {
   "codemirror_mode": {
    "name": "ipython",
    "version": 3
   },
   "file_extension": ".py",
   "mimetype": "text/x-python",
   "name": "python",
   "nbconvert_exporter": "python",
   "pygments_lexer": "ipython3",
   "version": "3.11.5"
  }
 },
 "nbformat": 4,
 "nbformat_minor": 5
}
