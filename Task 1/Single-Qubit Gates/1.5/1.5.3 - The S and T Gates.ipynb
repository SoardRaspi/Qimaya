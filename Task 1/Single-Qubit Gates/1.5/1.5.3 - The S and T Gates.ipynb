{
 "cells": [
  {
   "cell_type": "markdown",
   "id": "331a5c98",
   "metadata": {},
   "source": [
    "Here, we are introduced to the S and T gates which are basically, controlled Z rotations with different parameter values. These gates have been specifically defined because of their frequent use in different algorithms. The gates are defined as:\n",
    "\n",
    "$S = \\begin{bmatrix}\n",
    "1 & 0 \\\\\n",
    "0 & i\n",
    "\\end{bmatrix}$\n",
    "\n",
    "$T = \\begin{bmatrix}\n",
    "1 & 0 \\\\\n",
    "0 & e^{i\\pi/4}\n",
    "\\end{bmatrix}$"
   ]
  },
  {
   "cell_type": "markdown",
   "id": "f584e6c3",
   "metadata": {},
   "source": [
    "These can be interpreted as half and quarter rotations of the qubit about the Z axis in the bloch sphere."
   ]
  },
  {
   "cell_type": "markdown",
   "id": "0c84c998",
   "metadata": {},
   "source": [
    "We are also introduced to the in-built function Adjoint, which takes the transpose of the complex conjugate of the unitary operation matrix. We denote this using the $\\dagger$ notation."
   ]
  },
  {
   "cell_type": "markdown",
   "id": "c262304c",
   "metadata": {},
   "source": [
    "We try to code the circuit:\n",
    "\n",
    "![image 1.5.3](images/1.5.3.png)"
   ]
  },
  {
   "cell_type": "code",
   "execution_count": null,
   "id": "b43382e2",
   "metadata": {},
   "outputs": [],
   "source": [
    "dev = qml.device(\"default.qubit\", wires=1)\n",
    "\n",
    "\n",
    "@qml.qnode(dev)\n",
    "def many_rotations():\n",
    "    \"\"\"Implement the circuit depicted above and return the quantum state.\n",
    "\n",
    "    Returns:\n",
    "        np.array[complex]: The state of the qubit after the operations.\n",
    "    \"\"\"\n",
    "\n",
    "    ##################\n",
    "    # YOUR CODE HERE #\n",
    "    ##################\n",
    "\n",
    "    # IMPLEMENT THE CIRCUIT\n",
    "    qml.Hadamard(wires=0)\n",
    "    qml.S(wires=0)\n",
    "    qml.adjoint(qml.T)(wires=0)\n",
    "    qml.RZ(0.3, wires=0)\n",
    "    qml.adjoint(qml.S)(wires=0)\n",
    "\n",
    "    # RETURN THE STATE\n",
    "\n",
    "    return qml.state()"
   ]
  }
 ],
 "metadata": {
  "kernelspec": {
   "display_name": "Python 3 (ipykernel)",
   "language": "python",
   "name": "python3"
  },
  "language_info": {
   "codemirror_mode": {
    "name": "ipython",
    "version": 3
   },
   "file_extension": ".py",
   "mimetype": "text/x-python",
   "name": "python",
   "nbconvert_exporter": "python",
   "pygments_lexer": "ipython3",
   "version": "3.11.5"
  }
 },
 "nbformat": 4,
 "nbformat_minor": 5
}
