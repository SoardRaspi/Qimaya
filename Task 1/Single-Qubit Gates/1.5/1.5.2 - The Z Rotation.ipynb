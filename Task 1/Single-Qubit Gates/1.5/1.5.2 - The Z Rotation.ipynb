{
 "cells": [
  {
   "cell_type": "markdown",
   "id": "b4166440",
   "metadata": {},
   "source": [
    "The workbook introduces a more flexible version of the Pauli Z gate introduced in the previous workbook. The gate is RZ Gate. This gate represents the rotation of a qubit around the Z-axis in the Bloch Sphere. The Pauli Z gate can be seen as a special case of the RZ gate with the parameter angle with value: $\\pi$.\n",
    "\n",
    "The RZ gate has the matrix representation of:\n",
    "\n",
    "$RZ(\\omega) = \\begin{bmatrix}\n",
    "e^{-i\\omega/2} & 0\\\\\n",
    "0 & e^{i\\omega/2}\n",
    "\\end{bmatrix}$"
   ]
  },
  {
   "cell_type": "markdown",
   "id": "9a7f196d",
   "metadata": {},
   "source": [
    "Having $\\omega = \\pi$, we get:\n",
    "\n",
    "$RZ(\\pi) = \\begin{bmatrix}\n",
    "e^{-i\\pi/2} & 0\\\\\n",
    "0 & e^{i\\pi/2}\n",
    "\\end{bmatrix} = \n",
    "\\begin{bmatrix}\n",
    "-i\\sin{\\pi/2} & 0\\\\\n",
    "0 & i\\sin{\\pi/2}\n",
    "\\end{bmatrix}$\n",
    "\n",
    "From this final matrix, we can take the common term of $i\\sin(\\pi/2)$, to form the final matrix as:\n",
    "\n",
    "$RZ(\\pi) = \\begin{bmatrix}\n",
    "-1 & 0\\\\\n",
    "0 & 1\n",
    "\\end{bmatrix}$\n",
    "\n",
    "We can also take the $-1$ term as common further, getting the standard definition of the Pauli Z gate:\n",
    "\n",
    "$RZ(\\pi) = \\begin{bmatrix}\n",
    "1 & 0\\\\\n",
    "0 & -1\n",
    "\\end{bmatrix}$"
   ]
  },
  {
   "cell_type": "markdown",
   "id": "5c07ffdc",
   "metadata": {},
   "source": [
    "This in the code form looks like:"
   ]
  },
  {
   "cell_type": "code",
   "execution_count": null,
   "id": "5a8c88f7",
   "metadata": {},
   "outputs": [],
   "source": [
    "dev = qml.device(\"default.qubit\", wires=1)\n",
    "\n",
    "\n",
    "@qml.qnode(dev)\n",
    "def fake_z():\n",
    "    \"\"\"Use RZ to produce the same action as Pauli Z on the |+> state.\n",
    "\n",
    "    Returns:\n",
    "        np.array[complex]: The state of the qubit after the operations.\n",
    "    \"\"\"\n",
    "\n",
    "    ##################\n",
    "    # YOUR CODE HERE #\n",
    "    ##################\n",
    "\n",
    "    # CREATE THE |+> STATE\n",
    "    qml.Hadamard(wires=0)\n",
    "\n",
    "    # APPLY RZ\n",
    "    qml.RZ(np.pi, wires=0)\n",
    "\n",
    "    # RETURN THE STATE\n",
    "    return qml.state()"
   ]
  }
 ],
 "metadata": {
  "kernelspec": {
   "display_name": "Python 3 (ipykernel)",
   "language": "python",
   "name": "python3"
  },
  "language_info": {
   "codemirror_mode": {
    "name": "ipython",
    "version": 3
   },
   "file_extension": ".py",
   "mimetype": "text/x-python",
   "name": "python",
   "nbconvert_exporter": "python",
   "pygments_lexer": "ipython3",
   "version": "3.11.5"
  }
 },
 "nbformat": 4,
 "nbformat_minor": 5
}
