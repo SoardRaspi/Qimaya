{
 "cells": [
  {
   "cell_type": "markdown",
   "id": "8fefc849",
   "metadata": {},
   "source": [
    "Here, we use the in-built Pauli Z operator. In the code, we first make a $\\vert +\\rangle$ state and then apply the Z gate to see the phase change and compare the change with the amplitudes of the states $\\vert 0\\rangle$ and $\\vert 1\\rangle$."
   ]
  },
  {
   "cell_type": "code",
   "execution_count": null,
   "id": "01643c14",
   "metadata": {},
   "outputs": [],
   "source": [
    "dev = qml.device(\"default.qubit\", wires=1)\n",
    "\n",
    "\n",
    "@qml.qnode(dev)\n",
    "def apply_z_to_plus():\n",
    "    \"\"\"Write a circuit that applies PauliZ to the |+> state and returns\n",
    "    the state.\n",
    "\n",
    "    Returns:\n",
    "        np.array[complex]: The state of the qubit after the operations.\n",
    "    \"\"\"\n",
    "\n",
    "    ##################\n",
    "    # YOUR CODE HERE #\n",
    "    ##################\n",
    "\n",
    "    # CREATE THE |+> STATE\n",
    "    qml.Hadamard(wires=0)\n",
    "\n",
    "    # APPLY PAULI Z\n",
    "    qml.PauliZ(wires=0)\n",
    "\n",
    "    # RETURN THE STATE\n",
    "    return qml.state()\n",
    "\n",
    "\n",
    "print(apply_z_to_plus())"
   ]
  }
 ],
 "metadata": {
  "kernelspec": {
   "display_name": "Python 3 (ipykernel)",
   "language": "python",
   "name": "python3"
  },
  "language_info": {
   "codemirror_mode": {
    "name": "ipython",
    "version": 3
   },
   "file_extension": ".py",
   "mimetype": "text/x-python",
   "name": "python",
   "nbconvert_exporter": "python",
   "pygments_lexer": "ipython3",
   "version": "3.11.5"
  }
 },
 "nbformat": 4,
 "nbformat_minor": 5
}
