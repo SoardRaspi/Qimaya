{
 "cells": [
  {
   "cell_type": "markdown",
   "id": "d8f811ee",
   "metadata": {},
   "source": [
    "Thisk exampleis a similar to the previous one. The state to be prepared here is:\n",
    "\n",
    "$\\vert\\psi\\rangle = \\sqrt{3}/2\\vert0\\rangle - i/2\\vert1\\rangle$\n",
    "\n",
    "For this, we can use the RX gate which is described as:\n",
    "\n",
    "$RX(\\theta) = \\begin{bmatrix}\n",
    "\\cos{\\theta/2} & -i\\sin{\\theta/2} \\\\\n",
    "-i\\sin{\\theta/2} & \\cos{\\theta/2}\n",
    "\\end{bmatrix}$\n",
    "\n",
    "Using the value of $\\theta$ as $\\pi/3$, we get the gate:\n",
    "\n",
    "$RX(\\pi/3) = \\begin{bmatrix}\n",
    "\\sqrt{3}/2 & -i/2 \\\\\n",
    "-i/2 & \\sqrt{3}/2\n",
    "\\end{bmatrix}$\n",
    "\n",
    "As can be seem from the matrix transformations, the required state will be attained for the input state $\\vert0\\rangle$. The code would be:"
   ]
  },
  {
   "cell_type": "markdown",
   "id": "c06697d7",
   "metadata": {},
   "source": [
    "dev = qml.device(\"default.qubit\", wires=1)\n",
    "\n",
    "\n",
    "@qml.qnode(dev)\n",
    "def prepare_state():\n",
    "    ##################\n",
    "    # YOUR CODE HERE #\n",
    "    ##################\n",
    "\n",
    "    # APPLY OPERATIONS TO PREPARE THE TARGET STATE\n",
    "    qml.RX(np.pi/3, wires=0)\n",
    "\n",
    "    return qml.state()"
   ]
  }
 ],
 "metadata": {
  "kernelspec": {
   "display_name": "Python 3 (ipykernel)",
   "language": "python",
   "name": "python3"
  },
  "language_info": {
   "codemirror_mode": {
    "name": "ipython",
    "version": 3
   },
   "file_extension": ".py",
   "mimetype": "text/x-python",
   "name": "python",
   "nbconvert_exporter": "python",
   "pygments_lexer": "ipython3",
   "version": "3.11.5"
  }
 },
 "nbformat": 4,
 "nbformat_minor": 5
}
