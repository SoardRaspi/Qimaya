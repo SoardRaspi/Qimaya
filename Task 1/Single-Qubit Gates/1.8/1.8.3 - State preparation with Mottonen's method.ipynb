{
 "cells": [
  {
   "cell_type": "markdown",
   "id": "95f8d9ae",
   "metadata": {},
   "source": [
    "This workbook introduces us to the Mottonen's method which pennylane provides as an in-built function to create the required initial state and we don't have to prepare the state manually as it can be tought for some complicated states.\n",
    "\n",
    "The state to be prepared is:\n",
    "\n",
    "![1.8.3](images/1.8.3.png)"
   ]
  },
  {
   "cell_type": "markdown",
   "id": "fbff4e96",
   "metadata": {},
   "source": [
    "We can do this easily using ```pennylane.MottonenStatePreparation```. The code to prepare the given state would be:"
   ]
  },
  {
   "cell_type": "code",
   "execution_count": null,
   "id": "b7d00ef8",
   "metadata": {},
   "outputs": [],
   "source": [
    "v = np.array([0.52889389 - 0.14956775j, 0.67262317 + 0.49545818j])\n",
    "\n",
    "##################\n",
    "# YOUR CODE HERE #\n",
    "##################\n",
    "\n",
    "# CREATE A DEVICE\n",
    "dev = qml.device('default.qubit', wires=1)\n",
    "\n",
    "# CONSTRUCT A QNODE THAT USES qml.MottonenStatePreparation\n",
    "# TO PREPARE A QUBIT IN STATE V, AND RETURN THE STATE\n",
    "\n",
    "@qml.qnode(dev)\n",
    "def prepare_state(state=v):\n",
    "    qml.MottonenStatePreparation(state, wires=0)\n",
    "    return qml.state()\n",
    "\n",
    "\n",
    "# This will draw the quantum circuit and allow you to inspect the output gates\n",
    "print(prepare_state(v))\n",
    "print()\n",
    "print(qml.draw(prepare_state, expansion_strategy=\"device\")(v))"
   ]
  }
 ],
 "metadata": {
  "kernelspec": {
   "display_name": "Python 3 (ipykernel)",
   "language": "python",
   "name": "python3"
  },
  "language_info": {
   "codemirror_mode": {
    "name": "ipython",
    "version": 3
   },
   "file_extension": ".py",
   "mimetype": "text/x-python",
   "name": "python",
   "nbconvert_exporter": "python",
   "pygments_lexer": "ipython3",
   "version": "3.11.5"
  }
 },
 "nbformat": 4,
 "nbformat_minor": 5
}
