{
 "cells": [
  {
   "cell_type": "markdown",
   "id": "16bced55",
   "metadata": {},
   "source": [
    "In this workbook, we have to make the following state:\n",
    "\n",
    "$1/\\sqrt{2}\\vert 0\\rangle + e^{5i\\pi/4}/\\sqrt{2}\\vert 1\\rangle$"
   ]
  },
  {
   "cell_type": "markdown",
   "id": "9da2a809",
   "metadata": {},
   "source": [
    "We can see that, we can easily prepare the $\\vert+\\rangle$, however here the state $\\vert1\\rangle$ has a phase attached to it: $e^{5i\\pi/4}$.\n",
    "\n",
    "We can easily attach this phase by repeatedly applying the $T$ gate which is described as:\n",
    "\n",
    "$T = \\begin{bmatrix}\n",
    "1 & 0 \\\\\n",
    "0 & e^{i\\pi/4}\n",
    "\\end{bmatrix}$\n",
    "\n",
    "This gate applies a phase of $e^{i\\pi/4}$ to the state $\\vert1\\rangle$. Therefore, applying the T gate on the qubit 5 times would bring the state $\\vert1\\rangle$ in the required phase. The final code would look like:"
   ]
  },
  {
   "cell_type": "code",
   "execution_count": null,
   "id": "deaefa52",
   "metadata": {},
   "outputs": [],
   "source": [
    "dev = qml.device(\"default.qubit\", wires=1)\n",
    "\n",
    "\n",
    "@qml.qnode(dev)\n",
    "def prepare_state():\n",
    "    ##################\n",
    "    # YOUR CODE HERE #\n",
    "    ##################\n",
    "\n",
    "    # APPLY OPERATIONS TO PREPARE THE TARGET STATE\n",
    "    qml.Hadamard(wires=0)\n",
    "    for i in range(5):\n",
    "        qml.T(wires=0)\n",
    "\n",
    "    return qml.state()"
   ]
  }
 ],
 "metadata": {
  "kernelspec": {
   "display_name": "Python 3 (ipykernel)",
   "language": "python",
   "name": "python3"
  },
  "language_info": {
   "codemirror_mode": {
    "name": "ipython",
    "version": 3
   },
   "file_extension": ".py",
   "mimetype": "text/x-python",
   "name": "python",
   "nbconvert_exporter": "python",
   "pygments_lexer": "ipython3",
   "version": "3.11.5"
  }
 },
 "nbformat": 4,
 "nbformat_minor": 5
}
