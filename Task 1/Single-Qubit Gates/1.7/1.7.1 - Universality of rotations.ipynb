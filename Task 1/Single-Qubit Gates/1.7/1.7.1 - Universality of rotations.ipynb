{
 "cells": [
  {
   "cell_type": "markdown",
   "id": "2ea8ae0f",
   "metadata": {},
   "source": [
    "This workbook is an introduction to the in-built general rotation gate called the Rot gate. This is accessible by ```pennylane.Rot```. Any operation on a qubit can be seen as a combination of rotation of the qubit statevector with respect to the X, Y and Z axes in the Bloch Sphere to finally attain the target state."
   ]
  },
  {
   "cell_type": "markdown",
   "id": "bbe4c782",
   "metadata": {},
   "source": [
    "Following this theory, we define the Rot gate($U$) as:\n",
    "\n",
    "$U(\\theta, \\phi, \\omega) = \\begin{bmatrix}\n",
    "e^{-i(\\phi + \\omega)/2}\\cos{\\theta/2} & -e^{i(\\phi - \\omega)/2}\\sin{\\theta/2} \\\\\n",
    "e^{-i(\\phi - \\omega)/2}\\sin{\\theta/2} & e^{i(\\phi + \\omega)/2}\\cos{\\theta/2} \\\\\n",
    "\\end{bmatrix}$"
   ]
  },
  {
   "cell_type": "markdown",
   "id": "de1ebeec",
   "metadata": {},
   "source": [
    "From the mathematical description, we can see that for different values of $\\theta, \\phi, \\omega$, we can form the matrix for the RX, RY and RZ gates."
   ]
  },
  {
   "cell_type": "markdown",
   "id": "e000b38e",
   "metadata": {},
   "source": [
    "The Rot gate is made up of a sequence of RZ and RY gates:"
   ]
  },
  {
   "cell_type": "code",
   "execution_count": null,
   "id": "6a3c6212",
   "metadata": {},
   "outputs": [],
   "source": [
    "def decomposed_rot(phi, theta, omega):\n",
    "    qml.RZ(phi, wires=0)\n",
    "    qml.RY(theta, wires=0)\n",
    "    qml.RZ(omega, wires=0)"
   ]
  },
  {
   "cell_type": "markdown",
   "id": "e49deb44",
   "metadata": {},
   "source": [
    "In the workbook, we try to generalize the rotation of gates using only RZ and RX gates for applying the Hadamard Gate. The code below uses only RZ and RX gates to form the Hadamard Gate:"
   ]
  },
  {
   "cell_type": "code",
   "execution_count": null,
   "id": "8665a3c4",
   "metadata": {},
   "outputs": [],
   "source": [
    "dev = qml.device(\"default.qubit\", wires=1)\n",
    "\n",
    "##################\n",
    "# YOUR CODE HERE #\n",
    "##################\n",
    "\n",
    "# ADJUST THE VALUES OF PHI, THETA, AND OMEGA\n",
    "phi, theta, omega = np.pi/2, np.pi/2, np.pi/2\n",
    "\n",
    "\n",
    "@qml.qnode(dev)\n",
    "def hadamard_with_rz_rx():\n",
    "    qml.RZ(phi, wires=0)\n",
    "    qml.RX(theta, wires=0)\n",
    "    qml.RZ(omega, wires=0)\n",
    "    return qml.state()"
   ]
  }
 ],
 "metadata": {
  "kernelspec": {
   "display_name": "Python 3 (ipykernel)",
   "language": "python",
   "name": "python3"
  },
  "language_info": {
   "codemirror_mode": {
    "name": "ipython",
    "version": 3
   },
   "file_extension": ".py",
   "mimetype": "text/x-python",
   "name": "python",
   "nbconvert_exporter": "python",
   "pygments_lexer": "ipython3",
   "version": "3.11.5"
  }
 },
 "nbformat": 4,
 "nbformat_minor": 5
}
