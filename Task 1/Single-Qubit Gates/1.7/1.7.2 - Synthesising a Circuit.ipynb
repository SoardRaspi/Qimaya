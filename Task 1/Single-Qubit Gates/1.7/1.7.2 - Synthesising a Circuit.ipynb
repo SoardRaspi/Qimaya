{
 "cells": [
  {
   "cell_type": "markdown",
   "id": "9d1d78af",
   "metadata": {},
   "source": [
    "In this workbook, we try to synthesize the circuit below using only RZ and RX gates with as less number of gates as possible:\n",
    "\n",
    "![1.7.2](images/1.7.2.png)"
   ]
  },
  {
   "cell_type": "markdown",
   "id": "b47db430",
   "metadata": {},
   "source": [
    "In a way we have to decompose the individual gates into a composition of RZ and RX gates and then try to remove the redundant gate blocks. To start with, the mathematical representation of the H, S, T$^\\dagger$ and Y gates is as follows:\n",
    "\n",
    "$H = (1/\\sqrt{2})\\begin{bmatrix}\n",
    "1 & 1 \\\\\n",
    "1 & -1\n",
    "\\end{bmatrix}$\n",
    "\n",
    "$S = \\begin{bmatrix}\n",
    "1 & 0 \\\\\n",
    "0 & i\n",
    "\\end{bmatrix}$\n",
    "\n",
    "$T = \\begin{bmatrix}\n",
    "1 & 0 \\\\\n",
    "0 & e^{i\\pi/4}\n",
    "\\end{bmatrix}$, \n",
    "$T^\\dagger = \\begin{bmatrix}\n",
    "1 & 0 \\\\\n",
    "0 & e^{-i\\pi/4}\n",
    "\\end{bmatrix}$\n",
    "\n",
    "$Y = \\begin{bmatrix}\n",
    "0 & -i \\\\\n",
    "i & 0\n",
    "\\end{bmatrix}$"
   ]
  },
  {
   "cell_type": "markdown",
   "id": "6346ea83",
   "metadata": {},
   "source": [
    "The RZ and RX gates have the matrix representation:\n",
    "\n",
    "$RZ(\\theta) = \\begin{bmatrix}\n",
    "e^{-i\\theta/2} & 0 \\\\\n",
    "0 & e^{i\\theta/2}\n",
    "\\end{bmatrix}$\n",
    "\n",
    "$RX(\\theta) = \\begin{bmatrix}\n",
    "\\cos{\\theta/2} & -i\\sin{\\theta/2} \\\\\n",
    "-i\\sin{\\theta/2} & \\cos{\\theta/2}\n",
    "\\end{bmatrix}$"
   ]
  },
  {
   "cell_type": "markdown",
   "id": "757d36dd",
   "metadata": {},
   "source": [
    "From the previous workbook, we know that the Hadamard gate can be decomposed as:\n",
    "\n",
    "$H = RZ(\\pi/2) \\cdot RX(\\pi/2) \\cdot RZ(\\pi/2)$"
   ]
  },
  {
   "cell_type": "markdown",
   "id": "38dbbfbc",
   "metadata": {},
   "source": [
    "For the $S$ gate, we can consider a phase of $(1 - i)$. Doing this is fine as two states different in phase are indistinguishable. Multiplying the marix $S$ with $(1 - i)$ will make the S matrix as:\n",
    "\n",
    "$S = \\begin{bmatrix}\n",
    "(1 - i) & 0 \\\\\n",
    "0 & (1 + i)\n",
    "\\end{bmatrix}$\n",
    "\n",
    "Therefore, the $S$ gate can be represented as:\n",
    "\n",
    "$S = RZ(\\pi/2)$"
   ]
  },
  {
   "cell_type": "markdown",
   "id": "48c5dbf2",
   "metadata": {},
   "source": [
    "The $Y$ gate can be represented as:\n",
    "\n",
    "$Y = RZ(\\theta) \\cdot RX(\\omega) = \n",
    "\\begin{bmatrix}\n",
    "e^{-i\\theta/2} & 0 \\\\\n",
    "0 & e^{i\\theta/2}\n",
    "\\end{bmatrix} \\cdot\n",
    "\\begin{bmatrix}\n",
    "\\cos{\\omega/2} & -i\\sin{\\omega/2} \\\\\n",
    "-i\\sin{\\omega/2} & \\cos{\\omega/2}\n",
    "\\end{bmatrix} = \n",
    "\\begin{bmatrix}\n",
    "e^{-i\\theta/2}\\cos{\\omega/2} & -ie^{-i\\theta/2}\\sin{\\omega/2} \\\\\n",
    "-ie^{i\\theta/2}\\sin{\\omega/2} & e^{i\\theta/2}\\cos{\\omega/2}\n",
    "\\end{bmatrix}$"
   ]
  },
  {
   "cell_type": "markdown",
   "id": "afc7db44",
   "metadata": {},
   "source": [
    "We can see that for $\\theta = pi$ and $\\omega = pi$, we get\n",
    "\n",
    "$Y = RZ(\\pi) \\cdot RX(\\pi)$"
   ]
  },
  {
   "cell_type": "markdown",
   "id": "8767d1be",
   "metadata": {},
   "source": [
    "For $T^\\dagger$, using $\\theta = -\\pi/4$ for $RZ(\\theta)$, we get:\n",
    "\n",
    "$RZ(-\\pi/4) = \\begin{bmatrix}\n",
    "e^{\\pi/8} & 0 \\\\\n",
    "0 & e^{-\\pi/8}\n",
    "\\end{bmatrix} = \n",
    "\\begin{bmatrix}\n",
    "1 & 0 \\\\\n",
    "0 & e^{-i\\pi/4}\n",
    "\\end{bmatrix}$."
   ]
  },
  {
   "cell_type": "markdown",
   "id": "e99d9207",
   "metadata": {},
   "source": [
    "From all the decompositions, we can write the final circuit as:\n",
    "\n",
    "$Y\\cdot T^{\\dagger}\\cdot S\\cdot H = RX(\\pi)\\cdot RZ(\\pi)\\cdot RZ(-\\pi/4)\\cdot RZ(\\pi/2)\\cdot RZ(\\pi/2) \\cdot RX(\\pi/2) \\cdot RZ(\\pi/2) = RX(\\pi)\\cdot RZ(7\\pi/4)\\cdot RX(\\pi/2) \\cdot RZ(\\pi/2)$"
   ]
  },
  {
   "cell_type": "markdown",
   "id": "a760de43",
   "metadata": {},
   "source": [
    "Following the mathematical notation and the programming notation, the sequence should be written in the reverse order. The final code looks would be:"
   ]
  },
  {
   "cell_type": "code",
   "execution_count": null,
   "id": "c039a838",
   "metadata": {},
   "outputs": [],
   "source": [
    "dev = qml.device(\"default.qubit\", wires=1)\n",
    "\n",
    "\n",
    "@qml.qnode(dev)\n",
    "def convert_to_rz_rx():\n",
    "    ##################\n",
    "    # YOUR CODE HERE #\n",
    "    ##################\n",
    "\n",
    "    # IMPLEMENT THE CIRCUIT IN THE PICTURE USING ONLY RZ AND RX\n",
    "    a, b, c, d = np.pi/2, np.pi/2, 7*np.pi/4, np.pi\n",
    "    \n",
    "    qml.RZ(a, wires=0)\n",
    "    qml.RX(b, wires=0)\n",
    "    qml.RZ(c, wires=0)\n",
    "    qml.RX(d, wires=0)\n",
    "    return qml.state()"
   ]
  }
 ],
 "metadata": {
  "kernelspec": {
   "display_name": "Python 3 (ipykernel)",
   "language": "python",
   "name": "python3"
  },
  "language_info": {
   "codemirror_mode": {
    "name": "ipython",
    "version": 3
   },
   "file_extension": ".py",
   "mimetype": "text/x-python",
   "name": "python",
   "nbconvert_exporter": "python",
   "pygments_lexer": "ipython3",
   "version": "3.11.5"
  }
 },
 "nbformat": 4,
 "nbformat_minor": 5
}
