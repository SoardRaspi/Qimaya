{
 "cells": [
  {
   "cell_type": "markdown",
   "id": "d62e7ce5",
   "metadata": {},
   "source": [
    "Here, we have to make the following circuit and measure the final state in the Y computational basis:\n",
    "\n",
    "![1.10.1](images/1.10.1.png)"
   ]
  },
  {
   "cell_type": "markdown",
   "id": "8cd2d09e",
   "metadata": {},
   "source": [
    "We can measure the final state in a specific computational basis using pennylane's ```expval``` function. It takes as parameter the Pauli matrix in which the measurement is to be made. The code would be:"
   ]
  },
  {
   "cell_type": "code",
   "execution_count": null,
   "id": "77123d70",
   "metadata": {},
   "outputs": [],
   "source": [
    "dev = qml.device(\"default.qubit\", wires=1)\n",
    "\n",
    "\n",
    "@qml.qnode(dev)\n",
    "def circuit():\n",
    "    ##################\n",
    "    # YOUR CODE HERE #\n",
    "    ##################\n",
    "    qml.RX(np.pi/4, wires=0)\n",
    "    qml.Hadamard(wires=0)\n",
    "    qml.Z(wires=0)\n",
    "\n",
    "    # IMPLEMENT THE CIRCUIT IN THE PICTURE AND MEASURE PAULI Y\n",
    "\n",
    "    return qml.expval(qml.PauliY(wires=0))\n",
    "\n",
    "\n",
    "print(circuit())"
   ]
  }
 ],
 "metadata": {
  "kernelspec": {
   "display_name": "Python 3 (ipykernel)",
   "language": "python",
   "name": "python3"
  },
  "language_info": {
   "codemirror_mode": {
    "name": "ipython",
    "version": 3
   },
   "file_extension": ".py",
   "mimetype": "text/x-python",
   "name": "python",
   "nbconvert_exporter": "python",
   "pygments_lexer": "ipython3",
   "version": "3.11.5"
  }
 },
 "nbformat": 4,
 "nbformat_minor": 5
}
