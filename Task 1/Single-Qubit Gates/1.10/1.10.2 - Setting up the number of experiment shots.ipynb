{
 "cells": [
  {
   "cell_type": "markdown",
   "id": "61abb03f",
   "metadata": {},
   "source": [
    "Here, we use the same circuit as before, but we run the circuit multiple times. We store the expectation values of the basis states in Y basis and then print the results to see the result stabilizing and reaching the expected theoretical value. The code for the same is:"
   ]
  },
  {
   "cell_type": "code",
   "execution_count": null,
   "id": "1a982d31",
   "metadata": {},
   "outputs": [],
   "source": [
    "# An array to store your results\n",
    "shot_results = []\n",
    "\n",
    "# Different numbers of shots\n",
    "shot_values = [100, 1000, 10000, 100000, 1000000]\n",
    "\n",
    "for shots in shot_values:\n",
    "    ##################\n",
    "    # YOUR CODE HERE #\n",
    "    ##################\n",
    "    dev = qml.device('default.qubit', wires=1, shots=shots)\n",
    "    \n",
    "    @qml.qnode(dev)\n",
    "    def circuit():\n",
    "        qml.RX(np.pi/4, wires=0)\n",
    "        qml.Hadamard(wires=0)\n",
    "        qml.Z(wires=0)\n",
    "        return qml.expval(qml.PauliY(wires=0))\n",
    "\n",
    "    # CREATE A DEVICE, CREATE A QNODE, AND RUN IT\n",
    "\n",
    "    # STORE RESULT IN SHOT_RESULTS ARRAY\n",
    "    shot_results.append(circuit())\n",
    "\n",
    "print(qml.math.unwrap(shot_results))"
   ]
  }
 ],
 "metadata": {
  "kernelspec": {
   "display_name": "Python 3 (ipykernel)",
   "language": "python",
   "name": "python3"
  },
  "language_info": {
   "codemirror_mode": {
    "name": "ipython",
    "version": 3
   },
   "file_extension": ".py",
   "mimetype": "text/x-python",
   "name": "python",
   "nbconvert_exporter": "python",
   "pygments_lexer": "ipython3",
   "version": "3.11.5"
  }
 },
 "nbformat": 4,
 "nbformat_minor": 5
}
