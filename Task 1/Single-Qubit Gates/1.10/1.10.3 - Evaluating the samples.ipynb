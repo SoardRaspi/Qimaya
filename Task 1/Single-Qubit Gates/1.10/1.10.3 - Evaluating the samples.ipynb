{
 "cells": [
  {
   "cell_type": "markdown",
   "id": "b1cdbd25",
   "metadata": {},
   "source": [
    "Here, we use the following formula to find the expectation value of the circuit when measured in the PauliY basis:\n",
    "\n",
    "![1.10.3](images/1.10.3.png)"
   ]
  },
  {
   "cell_type": "markdown",
   "id": "f1b302ed",
   "metadata": {},
   "source": [
    "Here, we use the ```pennylane.sample``` function to see the ectual outputs of the circuit for each of the shots of running the circuit. The code for the same is:"
   ]
  },
  {
   "cell_type": "code",
   "execution_count": null,
   "id": "e24b7e7d",
   "metadata": {},
   "outputs": [],
   "source": [
    "dev = qml.device(\"default.qubit\", wires=1, shots=100000)\n",
    "\n",
    "\n",
    "@qml.qnode(dev)\n",
    "def circuit():\n",
    "    qml.RX(np.pi / 4, wires=0)\n",
    "    qml.Hadamard(wires=0)\n",
    "    qml.PauliZ(wires=0)\n",
    "\n",
    "    ##################\n",
    "    # YOUR CODE HERE #\n",
    "    ##################\n",
    "\n",
    "    # RETURN THE MEASUREMENT SAMPLES OF THE CORRECT OBSERVABLE\n",
    "\n",
    "    return qml.sample(qml.PauliY(wires=0))\n",
    "\n",
    "\n",
    "def compute_expval_from_samples(samples):\n",
    "    \"\"\"Compute the expectation value of an observable given a set of\n",
    "    sample outputs. You can assume that there are two possible outcomes,\n",
    "    1 and -1.\n",
    "\n",
    "    Args:\n",
    "        samples (np.array[float]): 100000 samples representing the results of\n",
    "            running the above circuit.\n",
    "\n",
    "    Returns:\n",
    "        float: the expectation value computed based on samples.\n",
    "    \"\"\"\n",
    "\n",
    "    estimated_expval = 0\n",
    "\n",
    "    ##################\n",
    "    # YOUR CODE HERE #\n",
    "    ##################\n",
    "\n",
    "    # USE THE SAMPLES TO ESTIMATE THE EXPECTATION VALUE\n",
    "    estimated_expval = np.sum(circuit()) / 100000\n",
    "\n",
    "    return estimated_expval\n",
    "\n",
    "\n",
    "samples = circuit()\n",
    "print(compute_expval_from_samples(samples))"
   ]
  }
 ],
 "metadata": {
  "kernelspec": {
   "display_name": "Python 3 (ipykernel)",
   "language": "python",
   "name": "python3"
  },
  "language_info": {
   "codemirror_mode": {
    "name": "ipython",
    "version": 3
   },
   "file_extension": ".py",
   "mimetype": "text/x-python",
   "name": "python",
   "nbconvert_exporter": "python",
   "pygments_lexer": "ipython3",
   "version": "3.11.5"
  }
 },
 "nbformat": 4,
 "nbformat_minor": 5
}
