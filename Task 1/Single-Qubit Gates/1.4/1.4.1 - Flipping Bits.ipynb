{
 "cells": [
  {
   "cell_type": "markdown",
   "id": "e38f4dc6",
   "metadata": {},
   "source": [
    "This workbook is an introduction to the quantum analogous of the classical NOT Gate. The NOT Gate gives logical not of the input as its output. The Quantum equivalent of the NOT gate is called the X Gate or the PauliX Gate. This gate, like the NOT Gate, gives as output, the NOT Gate of the input:\n",
    "\n",
    "$X(\\alpha\\vert 0\\rangle + \\beta\\vert 1\\rangle) = \\alpha\\vert 1\\rangle + \\beta\\vert 0\\rangle$"
   ]
  },
  {
   "cell_type": "markdown",
   "id": "1b1615fd",
   "metadata": {},
   "source": [
    "The code in the workbook asks to apply the X Gate based on the input to the function circuit. The inputis of type (int). If the input is 1, the X Gate should be applied, and leave the circuit as it is in case the input is 0"
   ]
  },
  {
   "cell_type": "code",
   "execution_count": null,
   "id": "231cda0a",
   "metadata": {},
   "outputs": [],
   "source": [
    "dev = qml.device(\"default.qubit\", wires=1)\n",
    "\n",
    "U = np.array([[1, 1], [1, -1]]) / np.sqrt(2)\n",
    "\n",
    "\n",
    "@qml.qnode(dev)\n",
    "def varied_initial_state(state):\n",
    "    \"\"\"Complete the function such that we can apply the operation U to\n",
    "    either |0> or |1> depending on the input argument flag.\n",
    "\n",
    "    Args:\n",
    "        state (int): Either 0 or 1. If 1, prepare the qubit in state |1>,\n",
    "            otherwise, leave it in state 0.\n",
    "\n",
    "    Returns:\n",
    "        np.array[complex]: The state of the qubit after the operations.\n",
    "    \"\"\"\n",
    "    ##################\n",
    "    # YOUR CODE HERE #\n",
    "    ##################\n",
    "    \n",
    "    # KEEP THE QUBIT IN |0> OR CHANGE IT TO |1> DEPENDING ON THE state PARAMETER\n",
    "    if (state == 1):\n",
    "        qml.PauliX(wires=0)\n",
    "    \n",
    "    # APPLY U TO THE STATE\n",
    "    qml.QubitUnitary(U, wires=0)\n",
    "\n",
    "    return qml.state()"
   ]
  },
  {
   "cell_type": "markdown",
   "id": "24e66c59",
   "metadata": {},
   "source": [
    "The code does the simple comparison of the input state and aapplies the PauliX accordingly. After that, we apply the unitary gate U from the previous workbook."
   ]
  }
 ],
 "metadata": {
  "kernelspec": {
   "display_name": "Python 3 (ipykernel)",
   "language": "python",
   "name": "python3"
  },
  "language_info": {
   "codemirror_mode": {
    "name": "ipython",
    "version": 3
   },
   "file_extension": ".py",
   "mimetype": "text/x-python",
   "name": "python",
   "nbconvert_exporter": "python",
   "pygments_lexer": "ipython3",
   "version": "3.11.5"
  }
 },
 "nbformat": 4,
 "nbformat_minor": 5
}
