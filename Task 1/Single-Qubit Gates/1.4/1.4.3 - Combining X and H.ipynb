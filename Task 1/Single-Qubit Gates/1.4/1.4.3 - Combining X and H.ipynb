{
 "cells": [
  {
   "cell_type": "markdown",
   "id": "11d5970c",
   "metadata": {},
   "source": [
    "Here, we just combine the two circuits to apply a Hadamard gate on the state $\\vert 1\\rangle$ to create the final quantum state $(\\vert 0\\rangle - \\vert 1\\rangle)/\\sqrt{2})$ if the input of the function is $1$ and $(\\vert 0\\rangle + \\vert 1\\rangle)/\\sqrt{2})$ if the input of the function is $0$."
   ]
  },
  {
   "cell_type": "code",
   "execution_count": null,
   "id": "6d6b1eec",
   "metadata": {},
   "outputs": [],
   "source": [
    "dev = qml.device(\"default.qubit\", wires=1)\n",
    "\n",
    "\n",
    "@qml.qnode(dev)\n",
    "def apply_hadamard_to_state(state):\n",
    "    \"\"\"Complete the function such that we can apply the Hadamard to\n",
    "    either |0> or |1> depending on the input argument flag.\n",
    "\n",
    "    Args:\n",
    "        state (int): Either 0 or 1. If 1, prepare the qubit in state |1>,\n",
    "            otherwise, leave it in state 0.\n",
    "\n",
    "    Returns:\n",
    "        np.array[complex]: The state of the qubit after the operations.\n",
    "    \"\"\"\n",
    "    ##################\n",
    "    # YOUR CODE HERE #\n",
    "    ##################\n",
    "\n",
    "    # KEEP THE QUBIT IN |0> OR CHANGE IT TO |1> DEPENDING ON state\n",
    "    if (state == 1):\n",
    "        qml.PauliX(wires=0)\n",
    "        \n",
    "    # APPLY THE HADAMARD\n",
    "    qml.Hadamard(wires=0)\n",
    "\n",
    "    # RETURN THE STATE\n",
    "\n",
    "    return qml.state()\n",
    "\n",
    "\n",
    "print(apply_hadamard_to_state(0))\n",
    "print(apply_hadamard_to_state(1))"
   ]
  }
 ],
 "metadata": {
  "kernelspec": {
   "display_name": "Python 3 (ipykernel)",
   "language": "python",
   "name": "python3"
  },
  "language_info": {
   "codemirror_mode": {
    "name": "ipython",
    "version": 3
   },
   "file_extension": ".py",
   "mimetype": "text/x-python",
   "name": "python",
   "nbconvert_exporter": "python",
   "pygments_lexer": "ipython3",
   "version": "3.11.5"
  }
 },
 "nbformat": 4,
 "nbformat_minor": 5
}
