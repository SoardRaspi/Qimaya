{
 "cells": [
  {
   "cell_type": "markdown",
   "id": "23b4f0bb",
   "metadata": {},
   "source": [
    "Here we apply another quantum circuit after initializing wire 0 based on the input of the circuit function. After initialization, we apply the Hadamard, Pauli X and the Hadamard gate again. Effectively, this combination creates the Pauli Z gate. The mathematics is:\n",
    "\n",
    "$H = 1/\\sqrt{2}\\begin{bmatrix}\n",
    "1 & 1\\\\\n",
    "1 & -1\n",
    "\\end{bmatrix}\n",
    "$\n",
    "\n",
    "$X = \\begin{bmatrix}\n",
    "0 & 1\\\\\n",
    "1 & 0\n",
    "\\end{bmatrix}\n",
    "$\n",
    "\n",
    "Final operation: $H\\cdot X\\cdot H = 1/\\sqrt{2}\\begin{bmatrix}\n",
    "1 & 1\\\\\n",
    "1 & -1\n",
    "\\end{bmatrix} \\cdot\n",
    "\\begin{bmatrix}\n",
    "0 & 1\\\\\n",
    "1 & 0\n",
    "\\end{bmatrix} \\cdot\n",
    "1/\\sqrt{2}\\begin{bmatrix}\n",
    "1 & 1\\\\\n",
    "1 & -1\n",
    "\\end{bmatrix} = \n",
    "(1/2)\\cdot\\begin{bmatrix}\n",
    "1 & 1\\\\\n",
    "-1 & 1\n",
    "\\end{bmatrix} \\cdot\n",
    "\\begin{bmatrix}\n",
    "1 & 1\\\\\n",
    "1 & -1\n",
    "\\end{bmatrix} = \n",
    "\\begin{bmatrix}\n",
    "1 & 0\\\\\n",
    "0 & -1\n",
    "\\end{bmatrix}$"
   ]
  },
  {
   "cell_type": "markdown",
   "id": "0edd11a4",
   "metadata": {},
   "source": [
    "As we can see, the Pauli Z operation only transforms the phase of the quantum system."
   ]
  },
  {
   "cell_type": "code",
   "execution_count": null,
   "id": "fd54baef",
   "metadata": {},
   "outputs": [],
   "source": [
    "##################\n",
    "# YOUR CODE HERE #\n",
    "##################\n",
    "\n",
    "# CREATE A DEVICE\n",
    "dev = qml.device(\"default.qubit\", wires=1)\n",
    "\n",
    "# CREATE A QNODE CALLED apply_hxh THAT APPLIES THE CIRCUIT ABOVE\n",
    "@qml.qnode(dev)\n",
    "def apply_hxh(state):\n",
    "    if (state == 1):\n",
    "        qml.PauliX(wires=0)\n",
    "    \n",
    "    qml.Hadamard(wires=0)\n",
    "    qml.PauliX(wires=0)\n",
    "    qml.Hadamard(wires=0)\n",
    "    \n",
    "    return qml.state()\n",
    "\n",
    "# Print your results\n",
    "print(apply_hxh(0))\n",
    "print(apply_hxh(1))"
   ]
  }
 ],
 "metadata": {
  "kernelspec": {
   "display_name": "Python 3 (ipykernel)",
   "language": "python",
   "name": "python3"
  },
  "language_info": {
   "codemirror_mode": {
    "name": "ipython",
    "version": 3
   },
   "file_extension": ".py",
   "mimetype": "text/x-python",
   "name": "python",
   "nbconvert_exporter": "python",
   "pygments_lexer": "ipython3",
   "version": "3.11.5"
  }
 },
 "nbformat": 4,
 "nbformat_minor": 5
}
