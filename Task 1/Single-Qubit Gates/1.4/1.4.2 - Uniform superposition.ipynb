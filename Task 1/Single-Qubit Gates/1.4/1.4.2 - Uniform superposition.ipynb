{
 "cells": [
  {
   "cell_type": "markdown",
   "id": "658a0266",
   "metadata": {},
   "source": [
    "Here, we use the Hadamard operation provided by Pennylane to apply the Hadamard gate to the current quantum system. The Hadamard(H) Gate is used to create a uniform superposition of the states $\\vert 0\\rangle$ and $\\vert 1\\rangle$. A thing to note is that this is different from Entanglement, which forms when when we apply a control operation."
   ]
  },
  {
   "cell_type": "code",
   "execution_count": null,
   "id": "150c042e",
   "metadata": {},
   "outputs": [],
   "source": [
    "dev = qml.device(\"default.qubit\", wires=1)\n",
    "\n",
    "\n",
    "@qml.qnode(dev)\n",
    "def apply_hadamard():\n",
    "    ##################\n",
    "    # YOUR CODE HERE #\n",
    "    ##################\n",
    "\n",
    "    # APPLY THE HADAMARD GATE\n",
    "    qml.Hadamard(wires=0)\n",
    "\n",
    "    # RETURN THE STATE\n",
    "    return qml.state()"
   ]
  }
 ],
 "metadata": {
  "kernelspec": {
   "display_name": "Python 3 (ipykernel)",
   "language": "python",
   "name": "python3"
  },
  "language_info": {
   "codemirror_mode": {
    "name": "ipython",
    "version": 3
   },
   "file_extension": ".py",
   "mimetype": "text/x-python",
   "name": "python",
   "nbconvert_exporter": "python",
   "pygments_lexer": "ipython3",
   "version": "3.11.5"
  }
 },
 "nbformat": 4,
 "nbformat_minor": 5
}
