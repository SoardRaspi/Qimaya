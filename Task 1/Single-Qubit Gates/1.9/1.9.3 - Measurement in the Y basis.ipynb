{
 "cells": [
  {
   "cell_type": "markdown",
   "id": "128eb5f8",
   "metadata": {},
   "source": [
    "Here, we use the pre-defined functions to first prepare the initial state and then measure the state in the new basis-rotated computational system. For this, we use pennylane's ```adjoint``` function to program the $\\dagger$ form of an operation. The code for the same would be:"
   ]
  },
  {
   "cell_type": "code",
   "execution_count": null,
   "id": "87ea451f",
   "metadata": {},
   "outputs": [],
   "source": [
    "dev = qml.device(\"default.qubit\", wires=1)\n",
    "\n",
    "\n",
    "@qml.qnode(dev)\n",
    "def measure_in_y_basis():\n",
    "    ##################\n",
    "    # YOUR CODE HERE #\n",
    "    ##################\n",
    "\n",
    "    # PREPARE THE STATE\n",
    "    # y_basis_rotation()\n",
    "    prepare_psi()\n",
    "\n",
    "    # PERFORM THE ROTATION BACK TO COMPUTATIONAL BASIS\n",
    "    qml.adjoint(y_basis_rotation)()\n",
    "\n",
    "    # RETURN THE MEASUREMENT OUTCOME PROBABILITIES\n",
    "\n",
    "    return qml.probs(wires=0)\n",
    "\n",
    "\n",
    "print(measure_in_y_basis())"
   ]
  }
 ],
 "metadata": {
  "kernelspec": {
   "display_name": "Python 3 (ipykernel)",
   "language": "python",
   "name": "python3"
  },
  "language_info": {
   "codemirror_mode": {
    "name": "ipython",
    "version": 3
   },
   "file_extension": ".py",
   "mimetype": "text/x-python",
   "name": "python",
   "nbconvert_exporter": "python",
   "pygments_lexer": "ipython3",
   "version": "3.11.5"
  }
 },
 "nbformat": 4,
 "nbformat_minor": 5
}
