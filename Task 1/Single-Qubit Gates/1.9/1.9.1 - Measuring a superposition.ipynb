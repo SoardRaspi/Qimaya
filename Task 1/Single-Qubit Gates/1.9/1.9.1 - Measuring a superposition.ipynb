{
 "cells": [
  {
   "cell_type": "markdown",
   "id": "88f1d72c",
   "metadata": {},
   "source": [
    "Here, we will be using ```pennylane.probs``` function which returns the probabilities of finding the final state in the basis states.\n",
    "\n",
    "The circuit in the code first prepares the $\\vert1\\rangle$ state and then applies the Hadamard gate to prepare the $\\vert-\\rangle$ state. Then the probabilities of finding the state in all the basis states is measured. The code would be:"
   ]
  },
  {
   "cell_type": "code",
   "execution_count": null,
   "id": "1befa01e",
   "metadata": {},
   "outputs": [],
   "source": [
    "dev = qml.device(\"default.qubit\", wires=1)\n",
    "\n",
    "\n",
    "@qml.qnode(dev)\n",
    "def apply_h_and_measure(state):\n",
    "    \"\"\"Complete the function such that we apply the Hadamard gate\n",
    "    and measure in the computational basis.\n",
    "\n",
    "    Args:\n",
    "        state (int): Either 0 or 1. If 1, prepare the qubit in state |1>,\n",
    "            otherwise leave it in state 0.\n",
    "\n",
    "    Returns:\n",
    "        np.array[float]: The measurement outcome probabilities.\n",
    "    \"\"\"\n",
    "    if state == 1:\n",
    "        qml.PauliX(wires=0)\n",
    "\n",
    "    ##################\n",
    "    # YOUR CODE HERE #\n",
    "    ##################\n",
    "\n",
    "    # APPLY HADAMARD AND MEASURE\n",
    "    qml.Hadamard(wires=0)\n",
    "\n",
    "    return qml.probs(wires=0)\n",
    "\n",
    "\n",
    "print(apply_h_and_measure(0))\n",
    "print(apply_h_and_measure(1))"
   ]
  }
 ],
 "metadata": {
  "kernelspec": {
   "display_name": "Python 3 (ipykernel)",
   "language": "python",
   "name": "python3"
  },
  "language_info": {
   "codemirror_mode": {
    "name": "ipython",
    "version": 3
   },
   "file_extension": ".py",
   "mimetype": "text/x-python",
   "name": "python",
   "nbconvert_exporter": "python",
   "pygments_lexer": "ipython3",
   "version": "3.11.5"
  }
 },
 "nbformat": 4,
 "nbformat_minor": 5
}
