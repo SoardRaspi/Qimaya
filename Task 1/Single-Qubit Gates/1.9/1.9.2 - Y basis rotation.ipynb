{
 "cells": [
  {
   "cell_type": "markdown",
   "id": "c34a1d7f",
   "metadata": {},
   "source": [
    "Here, we have to first prepare the following state:\n",
    "\n",
    "![1.9.2_1](images/1.9.2_1.png)"
   ]
  },
  {
   "cell_type": "markdown",
   "id": "af21dc33",
   "metadata": {},
   "source": [
    "After preparing the stae, we have to devise a sequence of operations that would satisfy the following transformations:\n",
    "\n",
    "![1.9.2_2](images/1.9.2_2.png)\n",
    "\n",
    "$\\vert0\\rangle \\rightarrow \\vert y_+\\rangle$\n",
    "\n",
    "$\\vert1\\rangle \\rightarrow \\vert y_-\\rangle$"
   ]
  },
  {
   "cell_type": "markdown",
   "id": "f9df5e0a",
   "metadata": {},
   "source": [
    "We can see that applying a Hadamard gate and then an S gate would perform the required transformations. Mathematically,\n",
    "\n",
    "$H = 1/\\sqrt{2}\\begin{bmatrix}\n",
    "1 & 1 \\\\\n",
    "1 & -1\n",
    "\\end{bmatrix}$\n",
    "\n",
    "$S = \\begin{bmatrix}\n",
    "1 & 0 \\\\\n",
    "0 & i\n",
    "\\end{bmatrix}$\n",
    "\n",
    "$S\\cdot H = 1/\\sqrt{2}\\begin{bmatrix}\n",
    "1 & 1 \\\\\n",
    "i & -i\n",
    "\\end{bmatrix}$\n",
    "\n",
    "We can see that the formed final matrix makes the required transformations. The code for the same would look like:"
   ]
  },
  {
   "cell_type": "code",
   "execution_count": null,
   "id": "2cc92a09",
   "metadata": {},
   "outputs": [],
   "source": [
    "##################\n",
    "# YOUR CODE HERE #\n",
    "##################\n",
    "\n",
    "\n",
    "# WRITE A QUANTUM FUNCTION THAT PREPARES (1/2)|0> + i(sqrt(3)/2)|1>\n",
    "def prepare_psi():\n",
    "    qml.RX(-2*np.pi/3, wires=0)\n",
    "\n",
    "\n",
    "# WRITE A QUANTUM FUNCTION THAT SENDS BOTH |0> TO |y_+> and |1> TO |y_->\n",
    "def y_basis_rotation():\n",
    "    qml.Hadamard(wires=0)\n",
    "    qml.S(wires=0)"
   ]
  }
 ],
 "metadata": {
  "kernelspec": {
   "display_name": "Python 3 (ipykernel)",
   "language": "python",
   "name": "python3"
  },
  "language_info": {
   "codemirror_mode": {
    "name": "ipython",
    "version": 3
   },
   "file_extension": ".py",
   "mimetype": "text/x-python",
   "name": "python",
   "nbconvert_exporter": "python",
   "pygments_lexer": "ipython3",
   "version": "3.11.5"
  }
 },
 "nbformat": 4,
 "nbformat_minor": 5
}
