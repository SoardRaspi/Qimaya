{
 "cells": [
  {
   "cell_type": "markdown",
   "id": "e7342f25",
   "metadata": {},
   "source": [
    "Here we use the CNOT oeprator which is the controlled NOT operator. This operation entangles the two quibts. This can be seen mathematically when the amplitudes associated with 2 of the states in the 4 possible states gets swapped. The CNOT gates is described as:\n",
    "\n",
    "$CNOT = \\begin{bmatrix}\n",
    "1 & 0 & 0 & 0 \\\\\n",
    "0 & 1 & 0 & 0 \\\\\n",
    "0 & 0 & 0 & 1 \\\\\n",
    "0 & 0 & 1 & 0\n",
    "\\end{bmatrix}$"
   ]
  },
  {
   "cell_type": "markdown",
   "id": "49f0b153",
   "metadata": {},
   "source": [
    "We do the operation using Pennylane's ```CNOT``` function which takes as parameter the control and target quibts. If the control qubit is in state $\\vert\\psi_1\\rangle$ and the target qubit is in the state $\\vert\\psi_2\\rangle$, then after CNOT, the states of the control qubit remains the same. However, the state of the target qubit becomes $\\vert\\psi_1\\oplus \\psi_2\\rangle$"
   ]
  },
  {
   "cell_type": "markdown",
   "id": "fc2545a2",
   "metadata": {},
   "source": [
    "The code for using this operation would be:"
   ]
  },
  {
   "cell_type": "code",
   "execution_count": null,
   "id": "d33b126d",
   "metadata": {},
   "outputs": [],
   "source": [
    "num_wires = 2\n",
    "dev = qml.device(\"default.qubit\", wires=num_wires)\n",
    "\n",
    "\n",
    "@qml.qnode(dev)\n",
    "def apply_cnot(basis_id):\n",
    "    \"\"\"Apply a CNOT to |basis_id>.\n",
    "\n",
    "    Args:\n",
    "        basis_id (int): An integer value identifying the basis state to construct.\n",
    "\n",
    "    Returns:\n",
    "        np.array[complex]: The resulting state after applying CNOT|basis_id>.\n",
    "    \"\"\"\n",
    "\n",
    "    # Prepare the basis state |basis_id>\n",
    "    bits = [int(x) for x in np.binary_repr(basis_id, width=num_wires)]\n",
    "    qml.BasisStatePreparation(bits, wires=[0, 1])\n",
    "\n",
    "    ##################\n",
    "    # YOUR CODE HERE #\n",
    "    ##################\n",
    "\n",
    "    # APPLY THE CNOT\n",
    "    qml.CNOT(wires=[0, 1])\n",
    "\n",
    "    return qml.state()\n",
    "\n",
    "\n",
    "##################\n",
    "# YOUR CODE HERE #\n",
    "##################\n",
    "\n",
    "# REPLACE THE BIT STRINGS VALUES BELOW WITH THE CORRECT ONES\n",
    "cnot_truth_table = {\"00\": \"00\", \"01\": \"00\", \"10\": \"00\", \"11\": \"00\"}\n",
    "for key, item in cnot_truth_table.items():\n",
    "    cnot_truth_table[key] = np.array(apply_cnot(sum(int(key_i)*(2**(len(key)-1-i)) for i, key_i in enumerate(key))))\n",
    "    cnot_truth_table[key] = np.binary_repr(np.where(cnot_truth_table[key] == 1.+0.j)[0][0], width=2)\n",
    "\n",
    "print(cnot_truth_table)\n",
    "\n",
    "# Run your QNode with various inputs to help fill in your truth table\n",
    "print(apply_cnot(0))"
   ]
  }
 ],
 "metadata": {
  "kernelspec": {
   "display_name": "Python 3 (ipykernel)",
   "language": "python",
   "name": "python3"
  },
  "language_info": {
   "codemirror_mode": {
    "name": "ipython",
    "version": 3
   },
   "file_extension": ".py",
   "mimetype": "text/x-python",
   "name": "python",
   "nbconvert_exporter": "python",
   "pygments_lexer": "ipython3",
   "version": "3.11.5"
  }
 },
 "nbformat": 4,
 "nbformat_minor": 5
}
