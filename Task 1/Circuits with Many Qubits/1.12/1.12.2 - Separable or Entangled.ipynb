{
 "cells": [
  {
   "cell_type": "markdown",
   "id": "b4f5a466",
   "metadata": {},
   "source": [
    "Here, we talk about making two qubits entangled. In a more intuitive sense, entangled means something that cannot be separated or is hard to separate. In the quantum sense, we talk about the combination of states such that they cannot be separated or grouped into separate states. The circuit we will be building is:\n",
    "\n",
    "![1.12.2](images/1.12.2.png)"
   ]
  },
  {
   "cell_type": "markdown",
   "id": "1f4977ed",
   "metadata": {},
   "source": [
    "Here, the Hadamard gate on the first wire forms the state $\\vert+\\rangle$ = $1/\\sqrt{2}(\\vert0\\rangle + \\vert1\\rangle)$. The whole system can be represented as: $1/\\sqrt{2}(\\vert00\\rangle + \\vert10\\rangle)$\n",
    "\n",
    "The CNOT gate after the Hadamard gate, convert the state into $1/\\sqrt{2}(\\vert0(0\\oplus0)\\rangle + \\vert1(1\\oplus0)\\rangle)$ = $1/\\sqrt{2}(\\vert00\\rangle + \\vert11\\rangle)$.\n",
    "\n",
    "We can see here that the final state cannot be grouped or shown as a tensor product of states of the two individual quibts. This when we say that the qubits are entangled. The code for the same:"
   ]
  },
  {
   "cell_type": "code",
   "execution_count": null,
   "id": "a26de06f",
   "metadata": {},
   "outputs": [],
   "source": [
    "dev = qml.device(\"default.qubit\", wires=2)\n",
    "\n",
    "\n",
    "@qml.qnode(dev)\n",
    "def apply_h_cnot():\n",
    "    ##################\n",
    "    # YOUR CODE HERE #\n",
    "    ##################\n",
    "\n",
    "    # APPLY THE OPERATIONS IN THE CIRCUIT\n",
    "    qml.Hadamard(wires=0)\n",
    "    qml.CNOT([0, 1])\n",
    "\n",
    "    return qml.state()\n",
    "\n",
    "\n",
    "print(apply_h_cnot())\n",
    "\n",
    "##################\n",
    "# YOUR CODE HERE #\n",
    "##################\n",
    "\n",
    "# SET THIS AS 'separable' OR 'entangled' BASED ON YOUR OUTCOME\n",
    "state_status = \"entangled\""
   ]
  }
 ],
 "metadata": {
  "kernelspec": {
   "display_name": "Python 3 (ipykernel)",
   "language": "python",
   "name": "python3"
  },
  "language_info": {
   "codemirror_mode": {
    "name": "ipython",
    "version": 3
   },
   "file_extension": ".py",
   "mimetype": "text/x-python",
   "name": "python",
   "nbconvert_exporter": "python",
   "pygments_lexer": "ipython3",
   "version": "3.11.5"
  }
 },
 "nbformat": 4,
 "nbformat_minor": 5
}
