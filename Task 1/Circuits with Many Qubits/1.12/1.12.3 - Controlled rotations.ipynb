{
 "cells": [
  {
   "cell_type": "markdown",
   "id": "9ec21ee1",
   "metadata": {},
   "source": [
    "Here, we are introduced to the controlled rotation gates. These are similar to the rotation gates studied earlier with the addition of a control qubit. We can think of it as a rotation operation which is applied on the target qubit only if the control qubit is in the state $\\vert1\\rangle$.\n",
    "\n",
    "Pennylane provides three operations in this group, one for each Pauli gate: CRX, CRY, CRZ for RX, RY and RZ gates repsectively. These functions take as input the angle by which the quibt is to be rotated and a list of wire indices which represent the control and target qubits.\n",
    "\n",
    "We build the following circuit which involves these controlled rotation operations:\n",
    "\n",
    "![1.12.3](images/1.12.3.png)"
   ]
  },
  {
   "cell_type": "markdown",
   "id": "4c759173",
   "metadata": {},
   "source": [
    "The code for the same:"
   ]
  },
  {
   "cell_type": "code",
   "execution_count": null,
   "id": "09b47871",
   "metadata": {},
   "outputs": [],
   "source": [
    "dev = qml.device(\"default.qubit\", wires=3)\n",
    "\n",
    "\n",
    "@qml.qnode(dev)\n",
    "def controlled_rotations(theta, phi, omega):\n",
    "    \"\"\"Implement the circuit above and return measurement outcome probabilities.\n",
    "\n",
    "    Args:\n",
    "        theta (float): A rotation angle\n",
    "        phi (float): A rotation angle\n",
    "        omega (float): A rotation angle\n",
    "\n",
    "    Returns:\n",
    "        np.array[float]: Measurement outcome probabilities of the 3-qubit\n",
    "        computational basis states.\n",
    "    \"\"\"\n",
    "\n",
    "    ##################\n",
    "    # YOUR CODE HERE #\n",
    "    ##################\n",
    "    qml.Hadamard(wires=0)\n",
    "    qml.CRX(theta, wires=[0, 1])\n",
    "    qml.CRY(phi, wires=[1, 2])\n",
    "    qml.CRZ(omega, wires=[2, 0])\n",
    "\n",
    "    # APPLY THE OPERATIONS IN THE CIRCUIT AND RETURN MEASUREMENT PROBABILITIES\n",
    "\n",
    "    return qml.probs(wires=[0, 1, 2])\n",
    "\n",
    "\n",
    "theta, phi, omega = 0.1, 0.2, 0.3\n",
    "print(controlled_rotations(theta, phi, omega))"
   ]
  },
  {
   "cell_type": "markdown",
   "id": "1c41d295",
   "metadata": {},
   "source": [
    "We can now mathematically evaluate the operations. Lets start by noting the matrix representations of the Hadamard, CRX($\\theta$), CRY($\\phi$) and CRZ($\\omega$) gates:\n",
    "\n",
    "$H = 1/\\sqrt{2} \\begin{bmatrix}\n",
    "1 & 1 \\\\\n",
    "1 & -1\n",
    "\\end{bmatrix}$\n",
    "\n",
    "$CRX(\\theta) = \\begin{bmatrix}\n",
    "1 & 0 & 0 & 0 \\\\\n",
    "0 & 1 & 0 & 0 \\\\\n",
    "0 & 0 & \\cos{\\theta/2} & -i\\sin{\\theta/2} \\\\\n",
    "0 & 0 & -i\\sin{\\theta/2} & \\cos{\\theta/2}\n",
    "\\end{bmatrix}$\n",
    "\n",
    "$CRY(\\phi) = \\begin{bmatrix}\n",
    "1 & 0 & 0 & 0 \\\\\n",
    "0 & 1 & 0 & 0 \\\\\n",
    "0 & 0 & \\cos{\\phi/2} & -\\sin{\\phi/2} \\\\\n",
    "0 & 0 & \\sin{\\phi/2} & \\cos{\\phi/2}\n",
    "\\end{bmatrix}$\n",
    "\n",
    "$CRZ(\\omega) = \\begin{bmatrix}\n",
    "1 & 0 & 0 & 0 \\\\\n",
    "0 & 1 & 0 & 0 \\\\\n",
    "0 & 0 & e^{-i\\omega/2} & 0 \\\\\n",
    "0 & 0 & 0 & e^{i\\omega/2}\n",
    "\\end{bmatrix}$"
   ]
  },
  {
   "cell_type": "markdown",
   "id": "cb47929a",
   "metadata": {},
   "source": [
    "Initially, the circuit is in the state $\\vert000\\rangle$. After the H gate, we get $1/\\sqrt{2}(\\vert000\\rangle + \\vert100\\rangle)$.\n",
    "\n",
    "After the RX gate, we get $1/\\sqrt{2}(\\vert000\\rangle + (\\cos{\\theta/2})\\vert100\\rangle + (-i\\sin{\\theta/2})\\vert110\\rangle)$.\n",
    "\n",
    "After the RY gate, we get $1/\\sqrt{2}(\\vert000\\rangle + (\\cos{\\theta/2})\\vert100\\rangle + (-i\\sin{\\theta/2}\\cos{\\phi/2})\\vert110\\rangle + (-i\\sin{\\theta/2}\\sin{\\phi/2})\\vert111\\rangle)$.\n",
    "\n",
    "After the RZ gate, we get $1/\\sqrt{2}(\\vert000\\rangle + (\\cos{\\theta/2})\\vert100\\rangle + (-i\\sin{\\theta/2}\\cos{\\phi/2})\\vert110\\rangle + (e^{i(\\omega - \\pi)/2}\\sin{\\theta/2}\\sin{\\phi/2})\\vert111\\rangle)$."
   ]
  },
  {
   "cell_type": "markdown",
   "id": "03a0c953",
   "metadata": {},
   "source": [
    "This is the final parameterized state of the circuit. Following the values from the code, we can get the final state for the circuit for those parameters."
   ]
  }
 ],
 "metadata": {
  "kernelspec": {
   "display_name": "Python 3 (ipykernel)",
   "language": "python",
   "name": "python3"
  },
  "language_info": {
   "codemirror_mode": {
    "name": "ipython",
    "version": 3
   },
   "file_extension": ".py",
   "mimetype": "text/x-python",
   "name": "python",
   "nbconvert_exporter": "python",
   "pygments_lexer": "ipython3",
   "version": "3.11.5"
  }
 },
 "nbformat": 4,
 "nbformat_minor": 5
}
