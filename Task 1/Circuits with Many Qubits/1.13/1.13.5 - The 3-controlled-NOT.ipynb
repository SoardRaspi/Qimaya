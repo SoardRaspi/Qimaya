{
 "cells": [
  {
   "cell_type": "markdown",
   "id": "9a6fa500",
   "metadata": {},
   "source": [
    "Here, we try to build the circuit for multi-controlled X operation. The transformation should follow:\n",
    "\n",
    "![1.13.5](images/1.13.5.png)"
   ]
  },
  {
   "cell_type": "markdown",
   "id": "4f17130d",
   "metadata": {},
   "source": [
    "Here we can immediately see that a Toffoli gate would be required as it performs the and operation on the two control qubits. We have also been given an extra qubit for calculation, whose final and initial states should be 0. For this, we can do the following sequence of operations:\n",
    "\n",
    "1. Toffoli with $\\vert a\\rangle$ and $\\vert b\\rangle$ as control and the extra wire as the target. This will take the target qubit from state $\\vert0\\rangle$ to $\\vert ab\\rangle$.\n",
    "2. Then, Toffoli with $\\vert c\\rangle$ and the extra qubit, currently in the state $\\vert ab\\rangle$, as control and the last (result) wire as the target. This will take the target qubit from state $\\vert0\\rangle$ to $\\vert abc\\rangle$.\n",
    "\n",
    "Although we have the final answer now, we need to make sure that the extra qubit after the whole operation is in the state $\\vert 0\\rangle$. Hence, we need to do one more operation:\n",
    "\n",
    "3. Toffoli with $\\vert a\\rangle$ and $\\vert b\\rangle$ as control and the extra wire as the target. This will take the target qubit from state $\\vert ab\\rangle$ to $\\vert ab\\oplus ab\\rangle$ = $\\vert0\\rangle$."
   ]
  },
  {
   "cell_type": "markdown",
   "id": "fd59ea9c",
   "metadata": {},
   "source": [
    "The code for the same is:"
   ]
  },
  {
   "cell_type": "code",
   "execution_count": null,
   "id": "a8e41e87",
   "metadata": {},
   "outputs": [],
   "source": [
    "# Wires 0, 1, 2 are the control qubits\n",
    "# Wire 3 is the auxiliary qubit\n",
    "# Wire 4 is the target\n",
    "dev = qml.device(\"default.qubit\", wires=5)\n",
    "\n",
    "\n",
    "@qml.qnode(dev)\n",
    "def four_qubit_mcx_only_tofs():\n",
    "    # We will initialize the control qubits in state |1> so you can see\n",
    "    # how the output state gets changed.\n",
    "    qml.PauliX(wires=0)\n",
    "    qml.PauliX(wires=1)\n",
    "    qml.PauliX(wires=2)\n",
    "\n",
    "    ##################\n",
    "    # YOUR CODE HERE #\n",
    "    ##################\n",
    "\n",
    "    # IMPLEMENT A 3-CONTROLLED NOT WITH TOFFOLIS\n",
    "    qml.Toffoli(wires=[0, 1, 3])\n",
    "    qml.Toffoli(wires=[2, 3, 4])\n",
    "    qml.Toffoli(wires=[0, 1, 3])\n",
    "\n",
    "    return qml.state()\n",
    "\n",
    "\n",
    "# print(four_qubit_mcx_only_tofs())"
   ]
  }
 ],
 "metadata": {
  "kernelspec": {
   "display_name": "Python 3 (ipykernel)",
   "language": "python",
   "name": "python3"
  },
  "language_info": {
   "codemirror_mode": {
    "name": "ipython",
    "version": 3
   },
   "file_extension": ".py",
   "mimetype": "text/x-python",
   "name": "python",
   "nbconvert_exporter": "python",
   "pygments_lexer": "ipython3",
   "version": "3.11.5"
  }
 },
 "nbformat": 4,
 "nbformat_minor": 5
}
