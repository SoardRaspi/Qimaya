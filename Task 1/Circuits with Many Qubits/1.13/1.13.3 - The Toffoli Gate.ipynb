{
 "cells": [
  {
   "cell_type": "markdown",
   "id": "3b271ca1",
   "metadata": {},
   "source": [
    "Here we try to create a controlled SWAP operation using only Toffoli gates. A similar truth table analysis done for 1.13.2 helps in generating the circuit. Mathematical analysis of the then formed circuit make the operations more intuitive. The final code for the same, following the sequence of Toffoli gates on the three qubits with different control and target qubits, we get:"
   ]
  },
  {
   "cell_type": "code",
   "execution_count": null,
   "id": "a67d400a",
   "metadata": {},
   "outputs": [],
   "source": [
    "dev = qml.device(\"default.qubit\", wires=3)\n",
    "\n",
    "# Prepare first qubit in |1>, and arbitrary states on the second two qubits\n",
    "phi, theta, omega = 1.2, 2.3, 3.4\n",
    "\n",
    "\n",
    "# A helper function just so you can visualize the initial state\n",
    "# before the controlled SWAP occurs.\n",
    "@qml.qnode(dev)\n",
    "def no_swap(phi, theta, omega):\n",
    "    prepare_states(phi, theta, omega)\n",
    "    return qml.state()\n",
    "\n",
    "\n",
    "@qml.qnode(dev)\n",
    "def controlled_swap(phi, theta, omega):\n",
    "    prepare_states(phi, theta, omega)\n",
    "\n",
    "    ##################\n",
    "    # YOUR CODE HERE #\n",
    "    ##################\n",
    "\n",
    "    # PERFORM A CONTROLLED SWAP USING A SEQUENCE OF TOFFOLIS\n",
    "    qml.Toffoli(wires=[0, 1, 2])\n",
    "    qml.Toffoli(wires=[0, 2, 1])\n",
    "    qml.Toffoli(wires=[0, 1, 2])\n",
    "\n",
    "    return qml.state()\n",
    "\n",
    "\n",
    "print(no_swap(phi, theta, omega))\n",
    "print(controlled_swap(phi, theta, omega))"
   ]
  }
 ],
 "metadata": {
  "kernelspec": {
   "display_name": "Python 3 (ipykernel)",
   "language": "python",
   "name": "python3"
  },
  "language_info": {
   "codemirror_mode": {
    "name": "ipython",
    "version": 3
   },
   "file_extension": ".py",
   "mimetype": "text/x-python",
   "name": "python",
   "nbconvert_exporter": "python",
   "pygments_lexer": "ipython3",
   "version": "3.11.5"
  }
 },
 "nbformat": 4,
 "nbformat_minor": 5
}
