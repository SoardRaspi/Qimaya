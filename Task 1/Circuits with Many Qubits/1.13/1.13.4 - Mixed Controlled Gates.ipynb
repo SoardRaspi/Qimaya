{
 "cells": [
  {
   "cell_type": "markdown",
   "id": "e555c852",
   "metadata": {},
   "source": [
    "Here, we use the multi-controlled gates. The standard gate with maximum number of control qubits id the toffoli gate with 2 control qubits. However, there might be a case where the requirement is for more thatn 2 control qubits. In such case, building a multi-control gate manually could get very difficult.\n",
    "\n",
    "In this example, we see Pennylane's MultiControlledX operation, which takes as many control qubits as we want and one target qubit.\n",
    "\n",
    "The function takes as parameters, the list of wire indices which would be the control wires, the single target wire index and the control value, i.e., the input value for which the operation on the target qubit would be performed."
   ]
  },
  {
   "cell_type": "markdown",
   "id": "d9c4b225",
   "metadata": {},
   "source": [
    "We try to use this function in the following circuit:\n",
    "\n",
    "![1.13.4](images/1.13.4.png)"
   ]
  },
  {
   "cell_type": "markdown",
   "id": "9a94de61",
   "metadata": {},
   "source": [
    "The code for the same would be:"
   ]
  },
  {
   "cell_type": "code",
   "execution_count": null,
   "id": "258d37ca",
   "metadata": {},
   "outputs": [],
   "source": [
    "dev = qml.device(\"default.qubit\", wires=4)\n",
    "\n",
    "\n",
    "@qml.qnode(dev)\n",
    "def four_qubit_mcx():\n",
    "    ##################\n",
    "    # YOUR CODE HERE #\n",
    "    ##################\n",
    "\n",
    "    # IMPLEMENT THE CIRCUIT ABOVE USING A 4-QUBIT MULTI-CONTROLLED X\n",
    "    qml.Hadamard(wires=0)\n",
    "    qml.Hadamard(wires=1)\n",
    "    qml.Hadamard(wires=2)\n",
    "    qml.MultiControlledX(control_wires=[0, 1, 2], wires=3, control_values=\"001\")\n",
    "\n",
    "    return qml.state()\n",
    "\n",
    "\n",
    "print(four_qubit_mcx())"
   ]
  }
 ],
 "metadata": {
  "kernelspec": {
   "display_name": "Python 3 (ipykernel)",
   "language": "python",
   "name": "python3"
  },
  "language_info": {
   "codemirror_mode": {
    "name": "ipython",
    "version": 3
   },
   "file_extension": ".py",
   "mimetype": "text/x-python",
   "name": "python",
   "nbconvert_exporter": "python",
   "pygments_lexer": "ipython3",
   "version": "3.11.5"
  }
 },
 "nbformat": 4,
 "nbformat_minor": 5
}
