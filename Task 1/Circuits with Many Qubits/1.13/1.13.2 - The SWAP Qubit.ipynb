{
 "cells": [
  {
   "cell_type": "markdown",
   "id": "4c324b3d",
   "metadata": {},
   "source": [
    "Here we try to make the SWAP operation only using CNOT gates. Keeping aside the quantum perspective, this is a classic example of swapping two integers without using any extra variable. Although in the classical computing example, we usually use addition and subtraction operations, we can do using the XOR operation as well. We do the same in the quantum example, using the CNOT gate."
   ]
  },
  {
   "cell_type": "markdown",
   "id": "23b4dfd5",
   "metadata": {},
   "source": [
    "Given two numbers, $a$ and $b$, the aim is to swap them without using any extra variables. We can do the operation:\n",
    "\n",
    "$b \\rightarrow b\\oplus a$\n",
    "\n",
    "The values now become, $a$ and $b\\oplus a$\n",
    "\n",
    "Doing an XOR of second value with the first one, we get the transformation:\n",
    "\n",
    "$a \\rightarrow a\\oplus a\\oplus b = b$\n",
    "\n",
    "The values are:\n",
    "\n",
    "$b$ and $a\\oplus b$\n",
    "\n",
    "We do another XOR operation on second variable from the first variable. Doing this, we get the final values:\n",
    "\n",
    "$b$ and $a$\n",
    "\n",
    "We can see, that the values of the variables has swapped. We can now convert these classical operations to quantum operations using 3 CNOT gates. Following the sequence, the first CNOT has the control and target qubits as first and second qubits respectively. For the second, we take the control and target qubits as second and first qubits respectively. Again, for the third operation, we take the control and target qubits as first and second qubits respectively, like the first CNOT operation.\n",
    "\n",
    "The code for the same would be:"
   ]
  },
  {
   "cell_type": "code",
   "execution_count": null,
   "id": "97398023",
   "metadata": {},
   "outputs": [],
   "source": [
    "dev = qml.device(\"default.qubit\", wires=2)\n",
    "\n",
    "# Prepare a two-qubit state; change up the angles if you like\n",
    "phi, theta, omega = 1.2, 2.3, 3.4\n",
    "\n",
    "\n",
    "@qml.qnode(dev)\n",
    "def apply_swap(phi, theta, omega):\n",
    "    prepare_states(phi, theta, omega)\n",
    "\n",
    "    ##################\n",
    "    # YOUR CODE HERE #\n",
    "    ##################\n",
    "\n",
    "    # IMPLEMENT THE REGULAR SWAP GATE HERE\n",
    "    qml.SWAP(wires=[0, 1])\n",
    "\n",
    "    return qml.state()\n",
    "\n",
    "\n",
    "@qml.qnode(dev)\n",
    "def apply_swap_with_cnots(phi, theta, omega):\n",
    "    prepare_states(phi, theta, omega)\n",
    "\n",
    "    ##################\n",
    "    # YOUR CODE HERE #\n",
    "    ##################\n",
    "\n",
    "    # IMPLEMENT THE SWAP GATE USING A SEQUENCE OF CNOTS\n",
    "    qml.CNOT(wires=[0, 1])\n",
    "    qml.CNOT(wires=[1, 0])\n",
    "    qml.CNOT(wires=[0, 1])\n",
    "\n",
    "    return qml.state()\n",
    "\n",
    "\n",
    "print(f\"Regular SWAP state = {apply_swap(phi, theta, omega)}\")\n",
    "print(f\"CNOT SWAP state = {apply_swap_with_cnots(phi, theta, omega)}\")"
   ]
  }
 ],
 "metadata": {
  "kernelspec": {
   "display_name": "Python 3 (ipykernel)",
   "language": "python",
   "name": "python3"
  },
  "language_info": {
   "codemirror_mode": {
    "name": "ipython",
    "version": 3
   },
   "file_extension": ".py",
   "mimetype": "text/x-python",
   "name": "python",
   "nbconvert_exporter": "python",
   "pygments_lexer": "ipython3",
   "version": "3.11.5"
  }
 },
 "nbformat": 4,
 "nbformat_minor": 5
}
