{
 "cells": [
  {
   "cell_type": "markdown",
   "id": "9654158f",
   "metadata": {},
   "source": [
    "Here, we try to make a controlled Z gate using a composition Hadamard and CNOT gates. We know that the Z gate can be written as:\n",
    "\n",
    "$Z = HXH$\n",
    "\n",
    "Having this, let us now examine what a controlled Z gate would do. The gate will do a Z operation on the target qubit if the control qubit is 0.\n",
    "\n",
    "Knowing these two facts, we can replace the $X$ in $HXH$ with $CX$. This is because, if the control qubit is in state 0, the CNOT gate will not operate the NOT gate on target qubit. Hence, in the case of target qubit being 0, we can just ignore the CNOT gate. About the two Hadamard gates, being consecutive they will result in a final identity operation.\n",
    "\n",
    "If the control qubit is in state 1, the NOT gate will be operated on the target qubit. In this case, the operations on the target qubit will be in the sequence $HXH$, which is the Z gate.\n",
    "\n",
    "So, overall, we have:\n",
    "\n",
    "1. I gate operated on target qubit if the control qubit is 0\n",
    "2. Z gate operated on target qubit if the control qubit is 1\n",
    "\n",
    "This is exactly what we want. We write the same in the code:"
   ]
  },
  {
   "cell_type": "code",
   "execution_count": null,
   "id": "702f54ac",
   "metadata": {},
   "outputs": [],
   "source": [
    "dev = qml.device(\"default.qubit\", wires=2)\n",
    "\n",
    "# Prepare a two-qubit state; change up the angles if you like\n",
    "phi, theta, omega = 1.2, 2.3, 3.4\n",
    "\n",
    "\n",
    "@qml.qnode(device=dev)\n",
    "def true_cz(phi, theta, omega):\n",
    "    prepare_states(phi, theta, omega)\n",
    "\n",
    "    ##################\n",
    "    # YOUR CODE HERE #\n",
    "    ##################\n",
    "\n",
    "    # IMPLEMENT THE REGULAR CZ GATE HERE\n",
    "    qml.CZ(wires=[0, 1])\n",
    "\n",
    "    return qml.state()\n",
    "\n",
    "\n",
    "@qml.qnode(dev)\n",
    "def imposter_cz(phi, theta, omega):\n",
    "    prepare_states(phi, theta, omega)\n",
    "\n",
    "    ##################\n",
    "    # YOUR CODE HERE #\n",
    "    ##################\n",
    "\n",
    "    # IMPLEMENT CZ USING ONLY H AND CNOT\n",
    "    qml.Hadamard(wires=1)\n",
    "    qml.CNOT(wires=[0, 1])\n",
    "    qml.Hadamard(wires=1)\n",
    "\n",
    "    return qml.state()\n",
    "\n",
    "\n",
    "print(f\"True CZ output state {true_cz(phi, theta, omega)}\")\n",
    "print(f\"Imposter CZ output state {imposter_cz(phi, theta, omega)}\")"
   ]
  }
 ],
 "metadata": {
  "kernelspec": {
   "display_name": "Python 3 (ipykernel)",
   "language": "python",
   "name": "python3"
  },
  "language_info": {
   "codemirror_mode": {
    "name": "ipython",
    "version": 3
   },
   "file_extension": ".py",
   "mimetype": "text/x-python",
   "name": "python",
   "nbconvert_exporter": "python",
   "pygments_lexer": "ipython3",
   "version": "3.11.5"
  }
 },
 "nbformat": 4,
 "nbformat_minor": 5
}
