{
 "cells": [
  {
   "cell_type": "markdown",
   "id": "fe8df6ae",
   "metadata": {},
   "source": [
    "Here, we develop a quantum multiplexer. In classical computer system design, we have a component called the Multiplexer which basicaly acts like a choice selector. Here the output depends on the input to the Quantum Multiplexer and the internal design of the same.\n",
    "\n",
    "For this exercise, the following operations should be convered using the 4 combinations possible using 2 qubits:\n",
    "\n",
    "1. If the first two qubits are both $\\vert0\\rangle$ do nothing\n",
    "2. If the first qubit is $\\vert0\\rangle$ and the second is $\\vert1\\rangle$ apply PauliX to the third qubit\n",
    "3. If the first qubit is $\\vert1\\rangle$ and the second is $\\vert0\\rangle$ apply PauliZ to the third qubit\n",
    "4. If the first two qubits are both $\\vert1\\rangle$ apply a PauliY operation the third qubit"
   ]
  },
  {
   "cell_type": "markdown",
   "id": "734d2fc3",
   "metadata": {},
   "source": [
    "For each of the choice options, we encode the input sing the PauliX gate to the qubit where the input value is suppossed to be 0. This makes sure that only that controlled operation runs for the particular input. Following the requirement, the following code is a suitable for this case of the maultiplexer:"
   ]
  },
  {
   "cell_type": "code",
   "execution_count": null,
   "id": "2d194044",
   "metadata": {},
   "outputs": [],
   "source": [
    "dev = qml.device(\"default.qubit\", wires=3)\n",
    "\n",
    "# State of first 2 qubits\n",
    "state = [0, 1]\n",
    "\n",
    "\n",
    "@qml.qnode(device=dev)\n",
    "def apply_control_sequence(state):\n",
    "    # Set up initial state of the first two qubits\n",
    "    if state[0] == 1:\n",
    "        qml.PauliX(wires=0)\n",
    "    if state[1] == 1:\n",
    "        qml.PauliX(wires=1)\n",
    "\n",
    "    # Set up initial state of the third qubit - use |->\n",
    "    # so we can see the effect on the output\n",
    "    qml.PauliX(wires=2)\n",
    "    qml.Hadamard(wires=2)\n",
    "\n",
    "    ##################\n",
    "    # YOUR CODE HERE #\n",
    "    ##################\n",
    "\n",
    "    # IMPLEMENT THE MULTIPLEXER\n",
    "    # IF STATE OF FIRST TWO QUBITS IS 01, APPLY X TO THIRD QUBIT\n",
    "    qml.PauliX(wires=0)\n",
    "    qml.Toffoli(wires=[0, 1, 2])\n",
    "    qml.PauliX(wires=0)\n",
    "\n",
    "    # IF STATE OF FIRST TWO QUBITS IS 10, APPLY Z TO THIRD QUBIT\n",
    "    qml.PauliX(wires=1)\n",
    "    qml.CCZ(wires=[0, 1, 2])\n",
    "    qml.PauliX(wires=1)\n",
    "\n",
    "    # IF STATE OF FIRST TWO QUBITS IS 11, APPLY Y TO THIRD QUBIT\n",
    "    qml.ControlledQubitUnitary(np.matrix([[0,-1j],[1j,0]]), control_wires=[0, 1], wires=2, control_values=[1, 1])\n",
    "\n",
    "    return qml.state()\n",
    "\n",
    "\n",
    "print(apply_control_sequence(state))"
   ]
  }
 ],
 "metadata": {
  "kernelspec": {
   "display_name": "Python 3 (ipykernel)",
   "language": "python",
   "name": "python3"
  },
  "language_info": {
   "codemirror_mode": {
    "name": "ipython",
    "version": 3
   },
   "file_extension": ".py",
   "mimetype": "text/x-python",
   "name": "python",
   "nbconvert_exporter": "python",
   "pygments_lexer": "ipython3",
   "version": "3.11.5"
  }
 },
 "nbformat": 4,
 "nbformat_minor": 5
}
