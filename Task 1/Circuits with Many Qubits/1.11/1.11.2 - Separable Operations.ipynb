{
 "cells": [
  {
   "cell_type": "markdown",
   "id": "a06372e9",
   "metadata": {},
   "source": [
    "Here, we first create the state $\\vert+1\\rangle$. After this, the circuit function returns a combined expectation value on the two different qubits:\n",
    "\n",
    "1. The expectation value of $Y$ on the first qubit\n",
    "2. The expectation value of $Z$ on the second qubit"
   ]
  },
  {
   "cell_type": "markdown",
   "id": "863a21cd",
   "metadata": {},
   "source": [
    "Borrowing from previous exercises, the code for the same would be:"
   ]
  },
  {
   "cell_type": "code",
   "execution_count": null,
   "id": "8b761304",
   "metadata": {},
   "outputs": [],
   "source": [
    "# Creates a device with *two* qubits\n",
    "dev = qml.device(\"default.qubit\", wires=2)\n",
    "\n",
    "\n",
    "@qml.qnode(dev)\n",
    "def two_qubit_circuit():\n",
    "    ##################\n",
    "    # YOUR CODE HERE #\n",
    "    ##################\n",
    "\n",
    "    # PREPARE |+>|1>\n",
    "    qml.Hadamard(wires=0)\n",
    "    qml.PauliX(wires=1)\n",
    "\n",
    "    # RETURN TWO EXPECTATION VALUES, Y ON FIRST QUBIT, Z ON SECOND QUBIT\n",
    "\n",
    "    return (qml.expval(qml.PauliY(wires=0)), qml.expval(qml.PauliZ(wires=1)))\n",
    "\n",
    "\n",
    "print(two_qubit_circuit())"
   ]
  }
 ],
 "metadata": {
  "kernelspec": {
   "display_name": "Python 3 (ipykernel)",
   "language": "python",
   "name": "python3"
  },
  "language_info": {
   "codemirror_mode": {
    "name": "ipython",
    "version": 3
   },
   "file_extension": ".py",
   "mimetype": "text/x-python",
   "name": "python",
   "nbconvert_exporter": "python",
   "pygments_lexer": "ipython3",
   "version": "3.11.5"
  }
 },
 "nbformat": 4,
 "nbformat_minor": 5
}
