{
 "cells": [
  {
   "cell_type": "markdown",
   "id": "ee5a244f",
   "metadata": {},
   "source": [
    "In this exercise, we take the integer number as the input and represent it by initializing the qubits following the binary representation of the input number. The number is encoded by following the order of setting the top-most wire the state of LSB of the binary representation.\n",
    "\n",
    "We use numpy's ```base_repr``` to get the binary representation and then iterate through the representation and set PauliX operations on the corressponding qubit wires.\n",
    "\n",
    "The code for the same would be:"
   ]
  },
  {
   "cell_type": "code",
   "execution_count": null,
   "id": "edaaf76d",
   "metadata": {},
   "outputs": [],
   "source": [
    "num_wires = 3\n",
    "dev = qml.device(\"default.qubit\", wires=num_wires)\n",
    "\n",
    "\n",
    "@qml.qnode(dev)\n",
    "def make_basis_state(basis_id):\n",
    "    \"\"\"Produce the 3-qubit basis state corresponding to |basis_id>.\n",
    "\n",
    "    Note that the system starts in |000>.\n",
    "\n",
    "    Args:\n",
    "        basis_id (int): An integer value identifying the basis state to construct.\n",
    "\n",
    "    Returns:\n",
    "        np.array[complex]: The computational basis state |basis_id>.\n",
    "    \"\"\"\n",
    "\n",
    "    ##################\n",
    "    # YOUR CODE HERE #\n",
    "    ##################\n",
    "\n",
    "    # CREATE THE BASIS STATE\n",
    "    basis_id_binary = np.base_repr(basis_id).zfill(3)\n",
    "    list_1 = list(basis_id_binary)\n",
    "    final_list = [int(x) for x in list_1]\n",
    "\n",
    "    print(final_list)\n",
    "    \n",
    "    for i in range(len(final_list)):\n",
    "        if final_list[i] == 1:\n",
    "            qml.PauliX(wires=i)\n",
    "\n",
    "    return qml.state()\n",
    "\n",
    "\n",
    "basis_id = 3\n",
    "print(f\"Output state = {make_basis_state(basis_id)}\")"
   ]
  }
 ],
 "metadata": {
  "kernelspec": {
   "display_name": "Python 3 (ipykernel)",
   "language": "python",
   "name": "python3"
  },
  "language_info": {
   "codemirror_mode": {
    "name": "ipython",
    "version": 3
   },
   "file_extension": ".py",
   "mimetype": "text/x-python",
   "name": "python",
   "nbconvert_exporter": "python",
   "pygments_lexer": "ipython3",
   "version": "3.11.5"
  }
 },
 "nbformat": 4,
 "nbformat_minor": 5
}
