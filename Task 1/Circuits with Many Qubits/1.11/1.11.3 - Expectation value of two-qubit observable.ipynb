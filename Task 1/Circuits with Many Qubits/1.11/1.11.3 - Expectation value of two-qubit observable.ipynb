{
 "cells": [
  {
   "cell_type": "markdown",
   "id": "2ac4d224",
   "metadata": {},
   "source": [
    "This is a similar exercise as 1.11.2. Here, instead of measuring the expectation values separately, we make a combined observable for the first and second qubits using the tensor product notation: ```@```, in the following way:"
   ]
  },
  {
   "cell_type": "code",
   "execution_count": null,
   "id": "7eef5ff1",
   "metadata": {},
   "outputs": [],
   "source": [
    "dev = qml.device(\"default.qubit\", wires=2)\n",
    "\n",
    "\n",
    "@qml.qnode(dev)\n",
    "def create_one_minus():\n",
    "    ##################\n",
    "    # YOUR CODE HERE #\n",
    "    ##################\n",
    "\n",
    "    # PREPARE |1>|->\n",
    "    qml.PauliX(wires=0)\n",
    "    qml.PauliX(wires=1)\n",
    "    qml.Hadamard(wires=1)\n",
    "\n",
    "    # RETURN A SINGLE EXPECTATION VALUE Z \\otimes X\n",
    "\n",
    "    return qml.expval(qml.PauliZ(0) @ qml.PauliX(1))\n",
    "\n",
    "\n",
    "print(create_one_minus())"
   ]
  },
  {
   "cell_type": "markdown",
   "id": "876c54f6",
   "metadata": {},
   "source": [
    "It is the same thing, but instead of doing the value expectation separately on the two qubits, we make an observable for two qubits and do value expectation for the two qubits as a single operation."
   ]
  }
 ],
 "metadata": {
  "kernelspec": {
   "display_name": "Python 3 (ipykernel)",
   "language": "python",
   "name": "python3"
  },
  "language_info": {
   "codemirror_mode": {
    "name": "ipython",
    "version": 3
   },
   "file_extension": ".py",
   "mimetype": "text/x-python",
   "name": "python",
   "nbconvert_exporter": "python",
   "pygments_lexer": "ipython3",
   "version": "3.11.5"
  }
 },
 "nbformat": 4,
 "nbformat_minor": 5
}
