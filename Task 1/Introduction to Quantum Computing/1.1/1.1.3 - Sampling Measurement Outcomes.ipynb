{
 "cells": [
  {
   "cell_type": "markdown",
   "id": "9366bc5a",
   "metadata": {},
   "source": [
    "This function talks about creating a function which would give the output of the system when the system collapses because of the measurement operation. To do this, we find out the theoretical probability of getting the state in each of the basis states.\n",
    "\n",
    "We calculate the probabiliy of a state collapsing to each of the basis states by taking the square of the amplitude of the basis state in that specific composition."
   ]
  },
  {
   "cell_type": "markdown",
   "id": "baf8d09b",
   "metadata": {},
   "source": [
    "We then generate an array of samples taken randomly by the numpy function with the bias that the probability of finding each of the states in the array is close to the theoretically calculated probability."
   ]
  },
  {
   "cell_type": "code",
   "execution_count": null,
   "id": "6c612c3a",
   "metadata": {},
   "outputs": [],
   "source": [
    "def measure_state(state, num_meas):\n",
    "    \"\"\"Simulate a quantum measurement process.\n",
    "\n",
    "    Args:\n",
    "        state (np.array[complex]): A normalized qubit state vector.\n",
    "        num_meas (int): The number of measurements to take\n",
    "\n",
    "    Returns:\n",
    "        np.array[int]: A set of num_meas samples, 0 or 1, chosen according to the probability\n",
    "        distribution defined by the input state.\n",
    "    \"\"\"\n",
    "\n",
    "    ##################\n",
    "    # YOUR CODE HERE #\n",
    "    ##################\n",
    "\n",
    "    # COMPUTE THE MEASUREMENT OUTCOME PROBABILITIES\n",
    "    ket_0 = np.array([1, 0])\n",
    "    ket_1 = np.array([0, 1])\n",
    "\n",
    "    prob_0 = np.absolute(np.dot(state, ket_0))**2\n",
    "    prob_1 = np.absolute(np.dot(state, ket_1))**2\n",
    "\n",
    "    probs_vector = np.random.choice([0, 1], p=[prob_0, prob_1], size=num_meas)\n",
    "\n",
    "    # RETURN A LIST OF SAMPLE MEASUREMENT OUTCOMES\n",
    "    return probs_vector"
   ]
  },
  {
   "cell_type": "markdown",
   "id": "187910bb",
   "metadata": {},
   "source": [
    "In this code, we first calculate the probabilities of the basis state and then generate the array of samples using the numpy random function."
   ]
  }
 ],
 "metadata": {
  "kernelspec": {
   "display_name": "Python 3 (ipykernel)",
   "language": "python",
   "name": "python3"
  },
  "language_info": {
   "codemirror_mode": {
    "name": "ipython",
    "version": 3
   },
   "file_extension": ".py",
   "mimetype": "text/x-python",
   "name": "python",
   "nbconvert_exporter": "python",
   "pygments_lexer": "ipython3",
   "version": "3.11.5"
  }
 },
 "nbformat": 4,
 "nbformat_minor": 5
}
