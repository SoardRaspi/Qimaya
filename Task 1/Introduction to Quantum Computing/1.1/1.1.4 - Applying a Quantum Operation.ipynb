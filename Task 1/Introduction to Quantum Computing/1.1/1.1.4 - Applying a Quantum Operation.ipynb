{
 "cells": [
  {
   "cell_type": "markdown",
   "id": "34f78881",
   "metadata": {},
   "source": [
    "This workbook talks about applying a Quantum operation on a given quantum state. These matrices which represent the operation should be unitary in order to preserve the normalization. In simple words, we have to make sure that the sum of the squares of the amplitudes of the state at any point of operations in the circuit should be 1. Basically, the rule should be maintained at all times.\n",
    "\n",
    "The matrix itself can be seen a mapping of input state to the output state. Representing the operations in the matrix form makes it easy to perform the transformations as it is simply the dot product of the unitary operation matrix and the vector representing the state of the system."
   ]
  },
  {
   "cell_type": "code",
   "execution_count": null,
   "id": "04d6fa17",
   "metadata": {},
   "outputs": [],
   "source": [
    "U = np.array([[1, 1], [1, -1]]) / np.sqrt(2)\n",
    "\n",
    "\n",
    "def apply_u(state):\n",
    "    \"\"\"Apply a quantum operation.\n",
    "\n",
    "    Args:\n",
    "        state (np.array[complex]): A normalized quantum state vector.\n",
    "\n",
    "    Returns:\n",
    "        np.array[complex]: The output state after applying U.\n",
    "    \"\"\"\n",
    "\n",
    "    ##################\n",
    "    # YOUR CODE HERE #\n",
    "    ##################\n",
    "\n",
    "    # APPLY U TO THE INPUT STATE AND RETURN THE NEW STATE\n",
    "    return np.dot(state, U)"
   ]
  },
  {
   "cell_type": "markdown",
   "id": "1504954f",
   "metadata": {},
   "source": [
    "In the above function, we do the operations described above. We first initialize the operator U. In this case, the operation U is the Hadamard operation. In the function, we simply use numpy's dot operator for doing the matrix and vector multiplication."
   ]
  }
 ],
 "metadata": {
  "kernelspec": {
   "display_name": "Python 3 (ipykernel)",
   "language": "python",
   "name": "python3"
  },
  "language_info": {
   "codemirror_mode": {
    "name": "ipython",
    "version": 3
   },
   "file_extension": ".py",
   "mimetype": "text/x-python",
   "name": "python",
   "nbconvert_exporter": "python",
   "pygments_lexer": "ipython3",
   "version": "3.11.5"
  }
 },
 "nbformat": 4,
 "nbformat_minor": 5
}
