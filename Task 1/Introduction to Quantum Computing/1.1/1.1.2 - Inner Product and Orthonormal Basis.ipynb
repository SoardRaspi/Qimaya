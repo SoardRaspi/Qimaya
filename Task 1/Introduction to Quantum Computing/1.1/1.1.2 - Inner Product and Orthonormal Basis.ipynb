{
 "cells": [
  {
   "cell_type": "markdown",
   "id": "73138796",
   "metadata": {},
   "source": [
    "This exercise talks about calculating the inner product of two given states. Let the states be $\\vert\\psi_1\\rangle$ and $\\vert\\psi_2\\rangle$. The inner product of these two states is defined as:\n",
    "\n",
    "inner product of $\\vert\\psi_1\\rangle$ and $\\vert\\psi_2\\rangle$ = $\\langle\\psi_1\\vert\\psi_2\\rangle$.\n",
    "\n",
    "This product, called the inner product is very important to find if the given two states as orthonormal. The inner product being 0 gives the proof of the two states being orthogonal. Since these states are quantum states, they are already normalized."
   ]
  },
  {
   "cell_type": "markdown",
   "id": "64a99b46",
   "metadata": {},
   "source": [
    "It is important to note what the state $\\langle\\psi_1\\vert$ in relation with the state $\\vert\\psi_1\\rangle$. These two states are be related as:\n",
    "\n",
    "$\\langle\\psi_1\\vert$ = $(\\vert\\psi_1\\rangle)^\\dagger$ = complex conjugate of the state $\\vert\\psi_1\\rangle$"
   ]
  },
  {
   "cell_type": "markdown",
   "id": "3a9093e5",
   "metadata": {},
   "source": [
    "Having defined the basics, if the inner product of two given states is 0, the given states are said to be orthonormal to each other."
   ]
  },
  {
   "cell_type": "code",
   "execution_count": null,
   "id": "bb1bd5ba",
   "metadata": {},
   "outputs": [],
   "source": [
    "def inner_product(state_1, state_2):\n",
    "    \"\"\"Compute the inner product between two states.\n",
    "\n",
    "    Args:\n",
    "        state_1 (np.array[complex]): A normalized quantum state vector\n",
    "        state_2 (np.array[complex]): A second normalized quantum state vector\n",
    "\n",
    "    Returns:\n",
    "        complex: The value of the inner product <state_1 | state_2>.\n",
    "    \"\"\"\n",
    "\n",
    "    ##################\n",
    "    # YOUR CODE HERE #\n",
    "    ##################\n",
    "\n",
    "    # COMPUTE AND RETURN THE INNER PRODUCT\n",
    "    state_1_ = np.conj(state_1)\n",
    "    inner_prd = np.dot(state_1_, state_2)\n",
    "    return inner_prd\n",
    "\n",
    "\n",
    "# Test your results with this code\n",
    "ket_0 = np.array([1, 0])\n",
    "ket_1 = np.array([0, 1])\n",
    "\n",
    "print(f\"<0|0> = {inner_product(ket_0, ket_0)}\")\n",
    "print(f\"<0|1> = {inner_product(ket_0, ket_1)}\")\n",
    "print(f\"<1|0> = {inner_product(ket_1, ket_0)}\")\n",
    "print(f\"<1|1> = {inner_product(ket_1, ket_1)}\")"
   ]
  },
  {
   "cell_type": "markdown",
   "id": "175f4d3e",
   "metadata": {},
   "source": [
    "In the code provided above, state_1_ is the conjugate of the input state state_1. Then we do the matrix multiplication of transpose of state_1_ and state_2. This is done by the nympy's ```dot``` function which does the matrix multiplication in the way described.\n",
    "\n",
    "We would get the same magnitude if we take the complex conjugate of state_2 instead of state_1 and take the dot product of this new state_2 and state_1"
   ]
  },
  {
   "cell_type": "markdown",
   "id": "da043168",
   "metadata": {},
   "source": [
    "We can easily prove that $|\\langle\\psi_1\\vert\\psi_2\\rangle| = |\\langle\\psi_2\\vert\\psi_1\\rangle|$:\n",
    "\n",
    "Let $\\vert\\psi_1\\rangle$ = $\\alpha_1\\vert 0\\rangle$ + $\\beta_1\\vert 1\\rangle$ and $\\vert\\psi_2\\rangle$ = $\\alpha_2\\vert 0\\rangle$ + $\\beta_2\\vert 1\\rangle$\n",
    "\n",
    "Then, $\\langle\\psi_1\\vert$ = $\\bar{\\alpha_1}\\langle 0\\vert$ + $\\bar{\\beta_1}\\langle 1\\vert$ and $\\langle\\psi_2\\vert$ = $\\bar{\\alpha_2}\\langle 0\\vert$ + $\\bar{\\beta_2}\\langle 1\\vert$"
   ]
  },
  {
   "cell_type": "markdown",
   "id": "4a440784",
   "metadata": {},
   "source": [
    "Therefore, $\\langle\\psi_1\\vert\\psi_2\\rangle$ = ($\\bar{\\alpha_1}\\langle 0\\vert$ + $\\bar{\\beta_1}\\langle 1\\vert$) $\\otimes$ ($\\alpha_2\\vert 0\\rangle$ + $\\beta_2\\vert 1\\rangle$) = $\\bar{\\alpha_1}\\alpha_2\\langle 0\\vert 0\\rangle$ + $\\bar{\\alpha_1}\\beta_2\\langle 0\\vert 1\\rangle$ + $\\bar{\\beta_1}\\alpha_2\\langle 1\\vert 0\\rangle$ + $\\bar{\\beta_1}\\beta_2\\langle 1\\vert 1\\rangle$"
   ]
  },
  {
   "cell_type": "markdown",
   "id": "8af63132",
   "metadata": {},
   "source": [
    "Cancelling the zero terms, we get:\n",
    "\n",
    "$\\langle\\psi_1\\vert\\psi_2\\rangle$ = $\\bar{\\alpha_1}\\alpha_2$ + $\\bar{\\beta_1}\\beta_2$"
   ]
  },
  {
   "cell_type": "markdown",
   "id": "a04af24e",
   "metadata": {},
   "source": [
    "Similarly, we can do for $\\langle\\psi_2\\vert\\psi_1\\rangle$"
   ]
  },
  {
   "cell_type": "markdown",
   "id": "03ff27ba",
   "metadata": {},
   "source": [
    "$\\langle\\psi_2\\vert\\psi_1\\rangle$ = $\\alpha_1\\bar{\\alpha_2}$ + $\\beta_1\\bar{\\beta_2}$"
   ]
  },
  {
   "cell_type": "markdown",
   "id": "360ff6fa",
   "metadata": {},
   "source": [
    "Here we can confirm that $\\langle\\psi_2\\vert\\psi_1\\rangle$ is the conjugate of $\\langle\\psi_1\\vert\\psi_2\\rangle$, and we know that the magnitude of a complex number and its conjugate is the same."
   ]
  }
 ],
 "metadata": {
  "kernelspec": {
   "display_name": "Python 3 (ipykernel)",
   "language": "python",
   "name": "python3"
  },
  "language_info": {
   "codemirror_mode": {
    "name": "ipython",
    "version": 3
   },
   "file_extension": ".py",
   "mimetype": "text/x-python",
   "name": "python",
   "nbconvert_exporter": "python",
   "pygments_lexer": "ipython3",
   "version": "3.11.5"
  }
 },
 "nbformat": 4,
 "nbformat_minor": 5
}
