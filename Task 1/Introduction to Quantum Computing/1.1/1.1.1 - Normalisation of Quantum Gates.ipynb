{
 "cells": [
  {
   "cell_type": "markdown",
   "id": "c00ec153",
   "metadata": {},
   "source": [
    "This exercise talks about the elementary rules in the field of Quantum Computing and Probability. The rules being:\n",
    "\n",
    "1. The sum of probabilities of all the states in a given quantum system should be 1\n",
    "2. The probability of a state $\\psi$ when measured with respect to an operator $U$ is given by : $UU^\\dagger\\langle\\psi\\vert\\psi\\rangle$. This is numerically equivalent to $|U\\vert\\psi\\rangle|^2$"
   ]
  },
  {
   "cell_type": "markdown",
   "id": "57b8638f",
   "metadata": {},
   "source": [
    "In this exercise, we are supposed to normalize the input quantum state. Normalization, with respect to mathematics of Quantum COmputing, refers to converting the current state probabilities to a new form such that the ratio of these probabilities among themselves remains the same, but the new normalized probabilites sum up to 1.\n",
    "\n",
    "One way of doing this is to multiply or divide the current states with a constant $k$. This would look like:\n",
    "\n",
    "$\\vert\\psi\\rangle = \\alpha\\vert 0\\rangle + \\beta\\vert 1\\rangle$\n",
    "\n",
    "Let us assume here that $|\\alpha|^2 + |\\beta|^2 \\neq 1$\n",
    "\n",
    "Let the new states, after multiplying the constant $k$ be $k\\alpha$ and $k\\beta$\n",
    "\n",
    "Therefore,\n",
    "$\\vert\\psi^{'}\\rangle = k\\alpha\\vert 0\\rangle + k\\beta\\vert 1\\rangle$ such that $|k\\alpha|^2 + |k\\beta|^2 = 1$\n",
    "\n",
    "Since the probabilities or the amplitudes can be complex, $|\\alpha|^2$ should be written as $\\alpha\\overline{\\alpha}$, where $\\overline{\\alpha}$ is the complex conjugate of $\\alpha$.\n",
    "\n",
    "Therefore, the equation now becomes:\n",
    "$|k\\alpha|^2 + |k\\beta|^2 = k\\alpha\\overline{\\alpha} + k\\beta\\overline{\\beta} = 1$\n",
    "\n",
    "Hence, the value k is now:\n",
    "$k = \\frac{1}{\\alpha\\overline{\\alpha} + \\beta\\overline{\\beta}}$"
   ]
  },
  {
   "cell_type": "markdown",
   "id": "b683cc26",
   "metadata": {},
   "source": [
    "Below is the code for the same. Here we use the numpy library to first find the absolute value of the complex number $\\alpha$ which is $\\sqrt{\\alpha\\overline{\\alpha}}$. For the value $k$, we then take the square of this value. We do the same for $\\beta$. Here the value $k$ is represented by the variable ```denom```:"
   ]
  },
  {
   "cell_type": "code",
   "execution_count": null,
   "id": "5c823950",
   "metadata": {},
   "outputs": [],
   "source": [
    "# Here are the vector representations of |0> and |1>, for convenience\n",
    "ket_0 = np.array([1, 0])\n",
    "ket_1 = np.array([0, 1])\n",
    "\n",
    "\n",
    "def normalize_state(alpha, beta):\n",
    "    \"\"\"Compute a normalized quantum state given arbitrary amplitudes.\n",
    "\n",
    "    Args:\n",
    "        alpha (complex): The amplitude associated with the |0> state.\n",
    "        beta (complex): The amplitude associated with the |1> state.\n",
    "\n",
    "    Returns:\n",
    "        np.array[complex]: A vector (numpy array) with 2 elements that represents\n",
    "        a normalized quantum state.\n",
    "    \"\"\"\n",
    "\n",
    "    ##################\n",
    "    # YOUR CODE HERE #\n",
    "    ##################\n",
    "    alph = np.absolute(alpha)\n",
    "    bet = np.absolute(beta)\n",
    "    \n",
    "    denom = np.sqrt((alph**2) + (bet**2))\n",
    "    a_ = alpha / denom\n",
    "    b_ = beta / denom\n",
    "\n",
    "    # CREATE A VECTOR [a', b'] BASED ON alpha AND beta SUCH THAT |a'|^2 + |b'|^2 = 1\n",
    "    vector = np.array([a_, b_])\n",
    "    # print(vector)\n",
    "\n",
    "    # RETURN A VECTOR\n",
    "    return vector\n"
   ]
  }
 ],
 "metadata": {
  "kernelspec": {
   "display_name": "Python 3 (ipykernel)",
   "language": "python",
   "name": "python3"
  },
  "language_info": {
   "codemirror_mode": {
    "name": "ipython",
    "version": 3
   },
   "file_extension": ".py",
   "mimetype": "text/x-python",
   "name": "python",
   "nbconvert_exporter": "python",
   "pygments_lexer": "ipython3",
   "version": "3.11.5"
  }
 },
 "nbformat": 4,
 "nbformat_minor": 5
}
