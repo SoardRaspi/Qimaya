{
 "cells": [
  {
   "cell_type": "markdown",
   "id": "cd360a11",
   "metadata": {},
   "source": [
    "This workbook introduces an in-built function to apply a custom unitary operation to a quantum circuit. Earlier, we had done this manually using the dot product of the state-vector and the unitary matrix. Instead, of that, it can be easily done using Pennylane's QubitUnitary operation:"
   ]
  },
  {
   "cell_type": "code",
   "execution_count": null,
   "id": "e9914326",
   "metadata": {},
   "outputs": [],
   "source": [
    "qml.QubitUnitary(U, wires=wire)"
   ]
  },
  {
   "cell_type": "markdown",
   "id": "d5be74dc",
   "metadata": {},
   "source": [
    "The function takes two parameters. The first parameter is the Unitary matrix and the second parameter is the wire(s) on which the unitary operator is to be applied.\n",
    "\n",
    "The whole code looks like:"
   ]
  },
  {
   "cell_type": "code",
   "execution_count": null,
   "id": "d4b1927c",
   "metadata": {},
   "outputs": [],
   "source": [
    "dev = qml.device(\"default.qubit\", wires=1)\n",
    "\n",
    "U = np.array([[1, 1], [1, -1]]) / np.sqrt(2)\n",
    "\n",
    "\n",
    "@qml.qnode(dev)\n",
    "def apply_u():\n",
    "\n",
    "    ##################\n",
    "    # YOUR CODE HERE #\n",
    "    ##################\n",
    "\n",
    "    # USE QubitUnitary TO APPLY U TO THE QUBIT\n",
    "    qml.QubitUnitary(U, wires=0)\n",
    "\n",
    "    # Return the state\n",
    "    return qml.state()"
   ]
  },
  {
   "cell_type": "markdown",
   "id": "ad357212",
   "metadata": {},
   "source": [
    "Like in the previous code, we apply the Hadamard gate, but through its matrix representation. Using the in-built function, we have the comfort of not worrying about the mathematical operations."
   ]
  }
 ],
 "metadata": {
  "kernelspec": {
   "display_name": "Python 3 (ipykernel)",
   "language": "python",
   "name": "python3"
  },
  "language_info": {
   "codemirror_mode": {
    "name": "ipython",
    "version": 3
   },
   "file_extension": ".py",
   "mimetype": "text/x-python",
   "name": "python",
   "nbconvert_exporter": "python",
   "pygments_lexer": "ipython3",
   "version": "3.11.5"
  }
 },
 "nbformat": 4,
 "nbformat_minor": 5
}
