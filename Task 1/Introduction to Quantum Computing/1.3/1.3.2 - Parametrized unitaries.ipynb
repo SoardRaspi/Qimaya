{
 "cells": [
  {
   "cell_type": "markdown",
   "id": "1225e9f8",
   "metadata": {},
   "source": [
    "This workbook introduces us to the paramterized unitary operation which takes three angles as input and applies it in the form:\n",
    "\n",
    "![Rot](images/Rot.png)"
   ]
  },
  {
   "cell_type": "markdown",
   "id": "42e7e088",
   "metadata": {},
   "source": [
    "This means that any single-qubit unitary operation can be expressed in the mtrix form by finding three suitable angles: $\\phi$, $\\theta$, $\\omega$"
   ]
  },
  {
   "cell_type": "markdown",
   "id": "cb3c2057",
   "metadata": {},
   "source": [
    "In PennyLane, this gate is available as:"
   ]
  },
  {
   "cell_type": "code",
   "execution_count": null,
   "id": "957f4685",
   "metadata": {},
   "outputs": [],
   "source": [
    "qml.Rot(phi, theta, omega, wires=wire)"
   ]
  },
  {
   "cell_type": "code",
   "execution_count": null,
   "id": "8bb0f82a",
   "metadata": {},
   "outputs": [],
   "source": [
    "dev = qml.device(\"default.qubit\", wires=1)\n",
    "\n",
    "\n",
    "@qml.qnode(dev)\n",
    "def apply_u_as_rot(phi, theta, omega):\n",
    "\n",
    "    ##################\n",
    "    # YOUR CODE HERE #\n",
    "    ##################\n",
    "\n",
    "    # APPLY A ROT GATE USING THE PROVIDED INPUT PARAMETERS\n",
    "    qml.Rot(phi, theta, omega, wires=0)\n",
    "\n",
    "    # RETURN THE QUANTUM STATE VECTOR\n",
    "    return qml.state()"
   ]
  },
  {
   "cell_type": "markdown",
   "id": "4a8e2ed7",
   "metadata": {},
   "source": [
    "As an example, the angle values: $\\phi = 0$, $\\theta = \\pi$, $\\omega = 0$, make the PauliX operator."
   ]
  }
 ],
 "metadata": {
  "kernelspec": {
   "display_name": "Python 3 (ipykernel)",
   "language": "python",
   "name": "python3"
  },
  "language_info": {
   "codemirror_mode": {
    "name": "ipython",
    "version": 3
   },
   "file_extension": ".py",
   "mimetype": "text/x-python",
   "name": "python",
   "nbconvert_exporter": "python",
   "pygments_lexer": "ipython3",
   "version": "3.11.5"
  }
 },
 "nbformat": 4,
 "nbformat_minor": 5
}
