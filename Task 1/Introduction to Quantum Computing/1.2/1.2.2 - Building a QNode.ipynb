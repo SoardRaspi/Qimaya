{
 "cells": [
  {
   "cell_type": "markdown",
   "id": "91da9ea6",
   "metadata": {},
   "source": [
    "This workbook is an inroduction to Pennylane's QNode object. This object is necessary for running the built quantum circuit on a Quantum Simulator or on a real Quantum device. The circuit built till now is just a function which takes in some parameters and returns the measurements/probabilities of states as the output."
   ]
  },
  {
   "cell_type": "markdown",
   "id": "61d4629b",
   "metadata": {},
   "source": [
    "We convert the circuit into a QNode by using the function ```pennylane.QNode(circuit, device)```"
   ]
  },
  {
   "cell_type": "markdown",
   "id": "9baac415",
   "metadata": {},
   "source": [
    "The first parameter is the circuit function and the second parameter is the device we will be using to run the circuit. This parameter can be a simulator or a real quantum device. The define the quantum simulator in the following way:"
   ]
  },
  {
   "cell_type": "code",
   "execution_count": null,
   "id": "cf188c2a",
   "metadata": {},
   "outputs": [],
   "source": [
    "dev = qml.device(\"default.qubit\", wires=3)"
   ]
  },
  {
   "cell_type": "markdown",
   "id": "23f81519",
   "metadata": {},
   "source": [
    "The variable ```dev``` stores the device instance. Here we are using the ```default.qubit``` simulator. The wires parameter is optional. Here we already know that the circuit has 3 wires and so, we can set the parameter value as 3. However, the code will throw an error if later in the circuit, any wire with the number greater than or equal to 3 is referred. This is because, the numbering starts from 0 and the number of the maximum available wire will be 2.\n",
    "\n",
    "We can also initialize the device without the ```wires``` parameter. We can continue to build the circuit and then the device will accommodate for the number of wires required."
   ]
  },
  {
   "cell_type": "markdown",
   "id": "863f19bb",
   "metadata": {},
   "source": [
    "To convert the circuit definition ```my_circuit``` into a runnable circuit object, we use the QNode function:"
   ]
  },
  {
   "cell_type": "code",
   "execution_count": null,
   "id": "a05bcc00",
   "metadata": {},
   "outputs": [],
   "source": [
    "my_qnode = qml.QNode(my_circuit, dev)"
   ]
  },
  {
   "cell_type": "markdown",
   "id": "4a5fd875",
   "metadata": {},
   "source": [
    "Here the ```my_qnode``` variable stores the QNode instance to be run on the device. The first parameter is the circuit definition, which in this case is ```my_circuit```. The second parameter is the device object which will be used, the value will be the variable ```dev```."
   ]
  },
  {
   "cell_type": "markdown",
   "id": "b7e9e069",
   "metadata": {},
   "source": [
    "Then to run the circuit, we use the my_qnode function. The whole code looks like:"
   ]
  },
  {
   "cell_type": "code",
   "execution_count": null,
   "id": "7b02a5ec",
   "metadata": {},
   "outputs": [],
   "source": [
    "# This creates a device with three wires on which PennyLane can run computations\n",
    "dev = qml.device(\"default.qubit\", wires=3)my\n",
    "\n",
    "\n",
    "def my_circuit(theta, phi, omega):\n",
    "\n",
    "    ##################\n",
    "    # YOUR CODE HERE #\n",
    "    ##################\n",
    "\n",
    "    # IMPLEMENT THE CIRCUIT BY ADDING THE GATES\n",
    "\n",
    "    # Here are two examples, so you can see the format:\n",
    "    # qml.CNOT(wires=[0, 1])\n",
    "    # qml.RX(theta, wires=0)\n",
    "\n",
    "    qml.RX(theta, wires=0)\n",
    "    qml.RY(phi, wires=1)\n",
    "    qml.RZ(omega, wires=2)\n",
    "\n",
    "    qml.CNOT(wires=[0, 1])\n",
    "    qml.CNOT(wires=[1, 2])\n",
    "    qml.CNOT(wires=[2, 0])\n",
    "\n",
    "    return qml.probs(wires=[0, 1, 2])\n",
    "\n",
    "\n",
    "# This creates a QNode, binding the function and device\n",
    "my_qnode = qml.QNode(my_circuit, dev)\n",
    "\n",
    "# We set up some values for the input parameters\n",
    "theta, phi, omega = 0.1, 0.2, 0.3\n",
    "\n",
    "# Now we can execute the QNode by calling it like we would a regular function\n",
    "my_qnode(theta, phi, omega)"
   ]
  }
 ],
 "metadata": {
  "kernelspec": {
   "display_name": "Python 3 (ipykernel)",
   "language": "python",
   "name": "python3"
  },
  "language_info": {
   "codemirror_mode": {
    "name": "ipython",
    "version": 3
   },
   "file_extension": ".py",
   "mimetype": "text/x-python",
   "name": "python",
   "nbconvert_exporter": "python",
   "pygments_lexer": "ipython3",
   "version": "3.11.5"
  }
 },
 "nbformat": 4,
 "nbformat_minor": 5
}
