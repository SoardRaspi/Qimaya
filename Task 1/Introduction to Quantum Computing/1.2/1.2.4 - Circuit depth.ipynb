{
 "cells": [
  {
   "cell_type": "markdown",
   "id": "ab302937",
   "metadata": {},
   "source": [
    "This workbook is an introduction to the circuit properties in pennylane. We use the circuit previously defined to find the depth of the circuit. The depth of the circuit is defined as the time steps it takes to run the circuit. This can also be thought of as the number of layers in the circuit."
   ]
  },
  {
   "cell_type": "markdown",
   "id": "0a44417a",
   "metadata": {},
   "source": [
    "We can find the depth of the circuit using the ```pennylane.spec``` function. The return type is ```dict```. We then access the key ```resources``` from the dictionary and use the ```depth``` property to get the circuit depth."
   ]
  },
  {
   "cell_type": "code",
   "execution_count": null,
   "id": "87eabdb0",
   "metadata": {},
   "outputs": [],
   "source": [
    "dev = qml.device(\"default.qubit\", wires=3)\n",
    "\n",
    "\n",
    "@qml.qnode(dev)\n",
    "def my_circuit(theta, phi, omega):\n",
    "    qml.RX(theta, wires=0)\n",
    "    qml.RY(phi, wires=1)\n",
    "    qml.RZ(omega, wires=2)\n",
    "    qml.CNOT(wires=[0, 1])\n",
    "    qml.CNOT(wires=[1, 2])\n",
    "    qml.CNOT(wires=[2, 0])\n",
    "    return qml.probs(wires=[0, 1, 2])\n",
    "\n",
    "\n",
    "##################\n",
    "# YOUR CODE HERE #\n",
    "##################\n",
    "theta, phi, omega = 0.1, 0.2, 0.3\n",
    "func = qml.specs(my_circuit)(theta, phi, omega)\n",
    "\n",
    "# FILL IN THE CORRECT CIRCUIT DEPTH\n",
    "depth = func[\"resources\"].depth"
   ]
  },
  {
   "cell_type": "markdown",
   "id": "a6a2b3c2",
   "metadata": {},
   "source": [
    "The depth of circuit defined in the code is $4$"
   ]
  }
 ],
 "metadata": {
  "kernelspec": {
   "display_name": "Python 3 (ipykernel)",
   "language": "python",
   "name": "python3"
  },
  "language_info": {
   "codemirror_mode": {
    "name": "ipython",
    "version": 3
   },
   "file_extension": ".py",
   "mimetype": "text/x-python",
   "name": "python",
   "nbconvert_exporter": "python",
   "pygments_lexer": "ipython3",
   "version": "3.11.5"
  }
 },
 "nbformat": 4,
 "nbformat_minor": 5
}
