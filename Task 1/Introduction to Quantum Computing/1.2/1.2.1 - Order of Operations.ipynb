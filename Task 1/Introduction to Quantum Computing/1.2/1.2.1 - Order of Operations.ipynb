{
 "cells": [
  {
   "cell_type": "markdown",
   "id": "eebfe83c",
   "metadata": {},
   "source": [
    "In this workbook we have to re-write the code, re-arranging the gartes to match the quantum circuit hown in the image."
   ]
  },
  {
   "cell_type": "markdown",
   "id": "0b29ca9e",
   "metadata": {},
   "source": [
    "![title](images/1.2.1.png)"
   ]
  },
  {
   "cell_type": "markdown",
   "id": "4b8e0fbd",
   "metadata": {},
   "source": [
    "While programming this circuit, the convention followed is from left-to-right. following the convention, we write the code for the CNOT and RX($\\theta$) gates first. The convention for wire numbering is that the top-most wire starts with the number 0 and then the numbering increments by 1 as we move down the circuit. Then, the Hadamard gate, and so on... The final code for the circuit looks like the following:"
   ]
  },
  {
   "cell_type": "code",
   "execution_count": null,
   "id": "35c7d948",
   "metadata": {},
   "outputs": [],
   "source": [
    "def my_circuit(theta, phi):\n",
    "    ##################\n",
    "    # YOUR CODE HERE #\n",
    "    ##################\n",
    "\n",
    "    # REORDER THESE 5 GATES TO MATCH THE CIRCUIT IN THE PICTURE\n",
    "\n",
    "    qml.CNOT(wires=[0, 1])\n",
    "    qml.RX(theta, wires=2)\n",
    "    qml.Hadamard(wires=0)\n",
    "    qml.CNOT(wires=[2, 0])\n",
    "    qml.RY(phi, wires=1)\n",
    "\n",
    "    # This is the measurement; we return the probabilities of all possible output states\n",
    "    # You'll learn more about what types of measurements are available in a later node\n",
    "    return qml.probs(wires=[0, 1, 2])"
   ]
  }
 ],
 "metadata": {
  "kernelspec": {
   "display_name": "Python 3 (ipykernel)",
   "language": "python",
   "name": "python3"
  },
  "language_info": {
   "codemirror_mode": {
    "name": "ipython",
    "version": 3
   },
   "file_extension": ".py",
   "mimetype": "text/x-python",
   "name": "python",
   "nbconvert_exporter": "python",
   "pygments_lexer": "ipython3",
   "version": "3.11.5"
  }
 },
 "nbformat": 4,
 "nbformat_minor": 5
}
